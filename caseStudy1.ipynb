{
 "cells": [
  {
   "cell_type": "markdown",
   "id": "885a2373-272b-4b45-a4f8-05c2a54dcd81",
   "metadata": {},
   "source": [
    "# Case Study 1"
   ]
  },
  {
   "cell_type": "markdown",
   "id": "2b2559c7-b0f0-45a3-913d-fb4aa74b515d",
   "metadata": {},
   "source": [
    "### IMPORT LIBRARIES"
   ]
  },
  {
   "cell_type": "code",
   "execution_count": 2,
   "id": "7a575578-000d-4b45-91b3-ed9555c508ab",
   "metadata": {},
   "outputs": [],
   "source": [
    "import pandas as pd\n",
    "import numpy as np\n",
    "import matplotlib.pyplot as plt\n",
    "import seaborn as sns"
   ]
  },
  {
   "cell_type": "markdown",
   "id": "01d1a192-496b-4f37-897f-afa465d1b1ea",
   "metadata": {},
   "source": [
    "### READ/LOAD THE FILE"
   ]
  },
  {
   "cell_type": "code",
   "execution_count": 3,
   "id": "ae4b4b79-49cd-450d-8ed8-5986ad5c800f",
   "metadata": {},
   "outputs": [],
   "source": [
    "df = pd.read_csv(\"customer_churn_data.csv\")"
   ]
  },
  {
   "cell_type": "code",
   "execution_count": 4,
   "id": "094976e4-2fee-4e6f-ac35-b83eb61f8df6",
   "metadata": {},
   "outputs": [
    {
     "data": {
      "text/html": [
       "<div>\n",
       "<style scoped>\n",
       "    .dataframe tbody tr th:only-of-type {\n",
       "        vertical-align: middle;\n",
       "    }\n",
       "\n",
       "    .dataframe tbody tr th {\n",
       "        vertical-align: top;\n",
       "    }\n",
       "\n",
       "    .dataframe thead th {\n",
       "        text-align: right;\n",
       "    }\n",
       "</style>\n",
       "<table border=\"1\" class=\"dataframe\">\n",
       "  <thead>\n",
       "    <tr style=\"text-align: right;\">\n",
       "      <th></th>\n",
       "      <th>year</th>\n",
       "      <th>customer_id</th>\n",
       "      <th>phone_no</th>\n",
       "      <th>gender</th>\n",
       "      <th>age</th>\n",
       "      <th>no_of_days_subscribed</th>\n",
       "      <th>multi_screen</th>\n",
       "      <th>mail_subscribed</th>\n",
       "      <th>weekly_mins_watched</th>\n",
       "      <th>minimum_daily_mins</th>\n",
       "      <th>maximum_daily_mins</th>\n",
       "      <th>weekly_max_night_mins</th>\n",
       "      <th>videos_watched</th>\n",
       "      <th>maximum_days_inactive</th>\n",
       "      <th>customer_support_calls</th>\n",
       "      <th>churn</th>\n",
       "    </tr>\n",
       "  </thead>\n",
       "  <tbody>\n",
       "    <tr>\n",
       "      <th>0</th>\n",
       "      <td>2015</td>\n",
       "      <td>100198</td>\n",
       "      <td>409-8743</td>\n",
       "      <td>Female</td>\n",
       "      <td>36</td>\n",
       "      <td>62</td>\n",
       "      <td>no</td>\n",
       "      <td>no</td>\n",
       "      <td>148.35</td>\n",
       "      <td>12.2</td>\n",
       "      <td>16.81</td>\n",
       "      <td>82</td>\n",
       "      <td>1</td>\n",
       "      <td>4.0</td>\n",
       "      <td>1</td>\n",
       "      <td>0.0</td>\n",
       "    </tr>\n",
       "    <tr>\n",
       "      <th>1</th>\n",
       "      <td>2015</td>\n",
       "      <td>100643</td>\n",
       "      <td>340-5930</td>\n",
       "      <td>Female</td>\n",
       "      <td>39</td>\n",
       "      <td>149</td>\n",
       "      <td>no</td>\n",
       "      <td>no</td>\n",
       "      <td>294.45</td>\n",
       "      <td>7.7</td>\n",
       "      <td>33.37</td>\n",
       "      <td>87</td>\n",
       "      <td>3</td>\n",
       "      <td>3.0</td>\n",
       "      <td>2</td>\n",
       "      <td>0.0</td>\n",
       "    </tr>\n",
       "    <tr>\n",
       "      <th>2</th>\n",
       "      <td>2015</td>\n",
       "      <td>100756</td>\n",
       "      <td>372-3750</td>\n",
       "      <td>Female</td>\n",
       "      <td>65</td>\n",
       "      <td>126</td>\n",
       "      <td>no</td>\n",
       "      <td>no</td>\n",
       "      <td>87.30</td>\n",
       "      <td>11.9</td>\n",
       "      <td>9.89</td>\n",
       "      <td>91</td>\n",
       "      <td>1</td>\n",
       "      <td>4.0</td>\n",
       "      <td>5</td>\n",
       "      <td>1.0</td>\n",
       "    </tr>\n",
       "    <tr>\n",
       "      <th>3</th>\n",
       "      <td>2015</td>\n",
       "      <td>101595</td>\n",
       "      <td>331-4902</td>\n",
       "      <td>Female</td>\n",
       "      <td>24</td>\n",
       "      <td>131</td>\n",
       "      <td>no</td>\n",
       "      <td>yes</td>\n",
       "      <td>321.30</td>\n",
       "      <td>9.5</td>\n",
       "      <td>36.41</td>\n",
       "      <td>102</td>\n",
       "      <td>4</td>\n",
       "      <td>3.0</td>\n",
       "      <td>3</td>\n",
       "      <td>0.0</td>\n",
       "    </tr>\n",
       "    <tr>\n",
       "      <th>4</th>\n",
       "      <td>2015</td>\n",
       "      <td>101653</td>\n",
       "      <td>351-8398</td>\n",
       "      <td>Female</td>\n",
       "      <td>40</td>\n",
       "      <td>191</td>\n",
       "      <td>no</td>\n",
       "      <td>no</td>\n",
       "      <td>243.00</td>\n",
       "      <td>10.9</td>\n",
       "      <td>27.54</td>\n",
       "      <td>83</td>\n",
       "      <td>7</td>\n",
       "      <td>3.0</td>\n",
       "      <td>1</td>\n",
       "      <td>0.0</td>\n",
       "    </tr>\n",
       "  </tbody>\n",
       "</table>\n",
       "</div>"
      ],
      "text/plain": [
       "   year  customer_id  phone_no  gender  age  no_of_days_subscribed  \\\n",
       "0  2015       100198  409-8743  Female   36                     62   \n",
       "1  2015       100643  340-5930  Female   39                    149   \n",
       "2  2015       100756  372-3750  Female   65                    126   \n",
       "3  2015       101595  331-4902  Female   24                    131   \n",
       "4  2015       101653  351-8398  Female   40                    191   \n",
       "\n",
       "  multi_screen mail_subscribed  weekly_mins_watched  minimum_daily_mins  \\\n",
       "0           no              no               148.35                12.2   \n",
       "1           no              no               294.45                 7.7   \n",
       "2           no              no                87.30                11.9   \n",
       "3           no             yes               321.30                 9.5   \n",
       "4           no              no               243.00                10.9   \n",
       "\n",
       "   maximum_daily_mins  weekly_max_night_mins  videos_watched  \\\n",
       "0               16.81                     82               1   \n",
       "1               33.37                     87               3   \n",
       "2                9.89                     91               1   \n",
       "3               36.41                    102               4   \n",
       "4               27.54                     83               7   \n",
       "\n",
       "   maximum_days_inactive  customer_support_calls  churn  \n",
       "0                    4.0                       1    0.0  \n",
       "1                    3.0                       2    0.0  \n",
       "2                    4.0                       5    1.0  \n",
       "3                    3.0                       3    0.0  \n",
       "4                    3.0                       1    0.0  "
      ]
     },
     "execution_count": 4,
     "metadata": {},
     "output_type": "execute_result"
    }
   ],
   "source": [
    "df.head()"
   ]
  },
  {
   "cell_type": "code",
   "execution_count": 6,
   "id": "9601c155-3cd7-4d82-a124-23c2ef6084f7",
   "metadata": {},
   "outputs": [
    {
     "data": {
      "text/plain": [
       "Index(['year', 'customer_id', 'phone_no', 'gender', 'age',\n",
       "       'no_of_days_subscribed', 'multi_screen', 'mail_subscribed',\n",
       "       'weekly_mins_watched', 'minimum_daily_mins', 'maximum_daily_mins',\n",
       "       'weekly_max_night_mins', 'videos_watched', 'maximum_days_inactive',\n",
       "       'customer_support_calls', 'churn'],\n",
       "      dtype='object')"
      ]
     },
     "execution_count": 6,
     "metadata": {},
     "output_type": "execute_result"
    }
   ],
   "source": [
    "# View all columns\n",
    "df.columns"
   ]
  },
  {
   "cell_type": "code",
   "execution_count": 7,
   "id": "2e3f4847-1b31-4244-8750-91de443ead63",
   "metadata": {},
   "outputs": [
    {
     "data": {
      "text/plain": [
       "0       0.0\n",
       "1       0.0\n",
       "2       1.0\n",
       "3       0.0\n",
       "4       0.0\n",
       "       ... \n",
       "1995    NaN\n",
       "1996    0.0\n",
       "1997    0.0\n",
       "1998    0.0\n",
       "1999    1.0\n",
       "Name: churn, Length: 2000, dtype: float64"
      ]
     },
     "execution_count": 7,
     "metadata": {},
     "output_type": "execute_result"
    }
   ],
   "source": [
    "# To check unique values of a column\n",
    "df['churn']"
   ]
  },
  {
   "cell_type": "code",
   "execution_count": 8,
   "id": "67dddb7a-e4dc-4489-b99c-4264c743ef99",
   "metadata": {},
   "outputs": [
    {
     "data": {
      "text/plain": [
       "array([ 0.,  1., nan])"
      ]
     },
     "execution_count": 8,
     "metadata": {},
     "output_type": "execute_result"
    }
   ],
   "source": [
    "df['churn'].unique()"
   ]
  },
  {
   "cell_type": "raw",
   "id": "76bcc9b6-a894-4d20-a11a-ab318eea23f2",
   "metadata": {},
   "source": [
    "0 -> Active/Subscriber\n",
    "1 -> Unsubscribed/left subscription/ cancel\n",
    "nan -> missing value"
   ]
  },
  {
   "cell_type": "code",
   "execution_count": 9,
   "id": "2f6faae0-52fe-41c7-a3f3-96f3703e5d2d",
   "metadata": {},
   "outputs": [
    {
     "data": {
      "text/plain": [
       "churn\n",
       "0.0    1703\n",
       "1.0     262\n",
       "Name: count, dtype: int64"
      ]
     },
     "execution_count": 9,
     "metadata": {},
     "output_type": "execute_result"
    }
   ],
   "source": [
    "# COUNT OF VALUES\n",
    "df['churn'].value_counts()"
   ]
  },
  {
   "cell_type": "code",
   "execution_count": 10,
   "id": "91585973-2a8d-4d38-9c99-2ec5a5a79e84",
   "metadata": {},
   "outputs": [
    {
     "data": {
      "text/plain": [
       "churn\n",
       "0.0    1703\n",
       "1.0     262\n",
       "NaN      35\n",
       "Name: count, dtype: int64"
      ]
     },
     "execution_count": 10,
     "metadata": {},
     "output_type": "execute_result"
    }
   ],
   "source": [
    "df['churn'].value_counts(dropna=False)"
   ]
  },
  {
   "cell_type": "code",
   "execution_count": 11,
   "id": "0340ddc0-9341-4e7e-be1a-f64faef6d19b",
   "metadata": {},
   "outputs": [
    {
     "data": {
      "text/plain": [
       "churn\n",
       "0.0    0.8515\n",
       "1.0    0.1310\n",
       "NaN    0.0175\n",
       "Name: proportion, dtype: float64"
      ]
     },
     "execution_count": 11,
     "metadata": {},
     "output_type": "execute_result"
    }
   ],
   "source": [
    "# NORMALISATION\n",
    "df['churn'].value_counts(dropna=False, normalize=True)"
   ]
  },
  {
   "cell_type": "code",
   "execution_count": 12,
   "id": "5b95fcc0-c4bc-4a32-9eb5-f78c01fc3b3b",
   "metadata": {},
   "outputs": [
    {
     "data": {
      "text/plain": [
       "churn\n",
       "0.0    85.15\n",
       "1.0    13.10\n",
       "NaN     1.75\n",
       "Name: proportion, dtype: float64"
      ]
     },
     "execution_count": 12,
     "metadata": {},
     "output_type": "execute_result"
    }
   ],
   "source": [
    "df['churn'].value_counts(dropna=False, normalize=True) * 100"
   ]
  },
  {
   "cell_type": "markdown",
   "id": "36adf4dc-3a60-4b72-9816-9b22dd784a72",
   "metadata": {},
   "source": [
    "### Information about data"
   ]
  },
  {
   "cell_type": "code",
   "execution_count": 13,
   "id": "97c528e9-72b9-40db-9cf1-89db2572c9f3",
   "metadata": {},
   "outputs": [
    {
     "name": "stdout",
     "output_type": "stream",
     "text": [
      "<class 'pandas.core.frame.DataFrame'>\n",
      "RangeIndex: 2000 entries, 0 to 1999\n",
      "Data columns (total 16 columns):\n",
      " #   Column                  Non-Null Count  Dtype  \n",
      "---  ------                  --------------  -----  \n",
      " 0   year                    2000 non-null   int64  \n",
      " 1   customer_id             2000 non-null   int64  \n",
      " 2   phone_no                2000 non-null   object \n",
      " 3   gender                  1976 non-null   object \n",
      " 4   age                     2000 non-null   int64  \n",
      " 5   no_of_days_subscribed   2000 non-null   int64  \n",
      " 6   multi_screen            2000 non-null   object \n",
      " 7   mail_subscribed         2000 non-null   object \n",
      " 8   weekly_mins_watched     2000 non-null   float64\n",
      " 9   minimum_daily_mins      2000 non-null   float64\n",
      " 10  maximum_daily_mins      2000 non-null   float64\n",
      " 11  weekly_max_night_mins   2000 non-null   int64  \n",
      " 12  videos_watched          2000 non-null   int64  \n",
      " 13  maximum_days_inactive   1972 non-null   float64\n",
      " 14  customer_support_calls  2000 non-null   int64  \n",
      " 15  churn                   1965 non-null   float64\n",
      "dtypes: float64(5), int64(7), object(4)\n",
      "memory usage: 250.1+ KB\n"
     ]
    }
   ],
   "source": [
    "df.info()"
   ]
  },
  {
   "cell_type": "markdown",
   "id": "9b918914-02ab-480c-bade-cca8f21f65aa",
   "metadata": {},
   "source": [
    "### Missing value analysis"
   ]
  },
  {
   "cell_type": "code",
   "execution_count": 16,
   "id": "c00979a3-0d57-4049-8709-dd6bf056cf1d",
   "metadata": {},
   "outputs": [
    {
     "data": {
      "text/plain": [
       "year                       0\n",
       "customer_id                0\n",
       "phone_no                   0\n",
       "gender                    24\n",
       "age                        0\n",
       "no_of_days_subscribed      0\n",
       "multi_screen               0\n",
       "mail_subscribed            0\n",
       "weekly_mins_watched        0\n",
       "minimum_daily_mins         0\n",
       "maximum_daily_mins         0\n",
       "weekly_max_night_mins      0\n",
       "videos_watched             0\n",
       "maximum_days_inactive     28\n",
       "customer_support_calls     0\n",
       "churn                     35\n",
       "dtype: int64"
      ]
     },
     "execution_count": 16,
     "metadata": {},
     "output_type": "execute_result"
    }
   ],
   "source": [
    "df.isnull().sum()"
   ]
  },
  {
   "cell_type": "markdown",
   "id": "49d0c19f-074b-4a0a-8bc0-9cf0b8bd5544",
   "metadata": {},
   "source": [
    "There are 3 columns for which data is missing\n",
    "- gender\n",
    "- maximum_days_inactive\n",
    "- churn"
   ]
  },
  {
   "cell_type": "markdown",
   "id": "f704e526-21a9-4655-b739-111c180017cc",
   "metadata": {},
   "source": [
    "### DESCRIBE"
   ]
  },
  {
   "cell_type": "code",
   "execution_count": 18,
   "id": "503bc392-71b2-4d6b-9272-497bc236791d",
   "metadata": {},
   "outputs": [
    {
     "data": {
      "text/html": [
       "<div>\n",
       "<style scoped>\n",
       "    .dataframe tbody tr th:only-of-type {\n",
       "        vertical-align: middle;\n",
       "    }\n",
       "\n",
       "    .dataframe tbody tr th {\n",
       "        vertical-align: top;\n",
       "    }\n",
       "\n",
       "    .dataframe thead th {\n",
       "        text-align: right;\n",
       "    }\n",
       "</style>\n",
       "<table border=\"1\" class=\"dataframe\">\n",
       "  <thead>\n",
       "    <tr style=\"text-align: right;\">\n",
       "      <th></th>\n",
       "      <th>year</th>\n",
       "      <th>customer_id</th>\n",
       "      <th>age</th>\n",
       "      <th>no_of_days_subscribed</th>\n",
       "      <th>weekly_mins_watched</th>\n",
       "      <th>minimum_daily_mins</th>\n",
       "      <th>maximum_daily_mins</th>\n",
       "      <th>weekly_max_night_mins</th>\n",
       "      <th>videos_watched</th>\n",
       "      <th>maximum_days_inactive</th>\n",
       "      <th>customer_support_calls</th>\n",
       "      <th>churn</th>\n",
       "    </tr>\n",
       "  </thead>\n",
       "  <tbody>\n",
       "    <tr>\n",
       "      <th>count</th>\n",
       "      <td>2000.0</td>\n",
       "      <td>2000.000000</td>\n",
       "      <td>2000.00000</td>\n",
       "      <td>2000.000000</td>\n",
       "      <td>2000.000000</td>\n",
       "      <td>2000.000000</td>\n",
       "      <td>2000.000000</td>\n",
       "      <td>2000.000000</td>\n",
       "      <td>2000.000000</td>\n",
       "      <td>1972.000000</td>\n",
       "      <td>2000.000000</td>\n",
       "      <td>1965.000000</td>\n",
       "    </tr>\n",
       "    <tr>\n",
       "      <th>mean</th>\n",
       "      <td>2015.0</td>\n",
       "      <td>554887.157500</td>\n",
       "      <td>38.69050</td>\n",
       "      <td>99.750000</td>\n",
       "      <td>270.178425</td>\n",
       "      <td>10.198700</td>\n",
       "      <td>30.620780</td>\n",
       "      <td>100.415500</td>\n",
       "      <td>4.482500</td>\n",
       "      <td>3.250507</td>\n",
       "      <td>1.547000</td>\n",
       "      <td>0.133333</td>\n",
       "    </tr>\n",
       "    <tr>\n",
       "      <th>std</th>\n",
       "      <td>0.0</td>\n",
       "      <td>261033.690318</td>\n",
       "      <td>10.20641</td>\n",
       "      <td>39.755386</td>\n",
       "      <td>80.551627</td>\n",
       "      <td>2.785519</td>\n",
       "      <td>9.129165</td>\n",
       "      <td>19.529454</td>\n",
       "      <td>2.487728</td>\n",
       "      <td>0.809084</td>\n",
       "      <td>1.315164</td>\n",
       "      <td>0.340021</td>\n",
       "    </tr>\n",
       "    <tr>\n",
       "      <th>min</th>\n",
       "      <td>2015.0</td>\n",
       "      <td>100198.000000</td>\n",
       "      <td>18.00000</td>\n",
       "      <td>1.000000</td>\n",
       "      <td>0.000000</td>\n",
       "      <td>0.000000</td>\n",
       "      <td>0.000000</td>\n",
       "      <td>42.000000</td>\n",
       "      <td>0.000000</td>\n",
       "      <td>0.000000</td>\n",
       "      <td>0.000000</td>\n",
       "      <td>0.000000</td>\n",
       "    </tr>\n",
       "    <tr>\n",
       "      <th>25%</th>\n",
       "      <td>2015.0</td>\n",
       "      <td>328634.750000</td>\n",
       "      <td>32.00000</td>\n",
       "      <td>73.000000</td>\n",
       "      <td>218.212500</td>\n",
       "      <td>8.400000</td>\n",
       "      <td>24.735000</td>\n",
       "      <td>87.000000</td>\n",
       "      <td>3.000000</td>\n",
       "      <td>3.000000</td>\n",
       "      <td>1.000000</td>\n",
       "      <td>0.000000</td>\n",
       "    </tr>\n",
       "    <tr>\n",
       "      <th>50%</th>\n",
       "      <td>2015.0</td>\n",
       "      <td>567957.500000</td>\n",
       "      <td>37.00000</td>\n",
       "      <td>99.000000</td>\n",
       "      <td>269.925000</td>\n",
       "      <td>10.200000</td>\n",
       "      <td>30.590000</td>\n",
       "      <td>101.000000</td>\n",
       "      <td>4.000000</td>\n",
       "      <td>3.000000</td>\n",
       "      <td>1.000000</td>\n",
       "      <td>0.000000</td>\n",
       "    </tr>\n",
       "    <tr>\n",
       "      <th>75%</th>\n",
       "      <td>2015.0</td>\n",
       "      <td>773280.250000</td>\n",
       "      <td>44.00000</td>\n",
       "      <td>127.000000</td>\n",
       "      <td>324.675000</td>\n",
       "      <td>12.000000</td>\n",
       "      <td>36.797500</td>\n",
       "      <td>114.000000</td>\n",
       "      <td>6.000000</td>\n",
       "      <td>4.000000</td>\n",
       "      <td>2.000000</td>\n",
       "      <td>0.000000</td>\n",
       "    </tr>\n",
       "    <tr>\n",
       "      <th>max</th>\n",
       "      <td>2015.0</td>\n",
       "      <td>999961.000000</td>\n",
       "      <td>82.00000</td>\n",
       "      <td>243.000000</td>\n",
       "      <td>526.200000</td>\n",
       "      <td>20.000000</td>\n",
       "      <td>59.640000</td>\n",
       "      <td>175.000000</td>\n",
       "      <td>19.000000</td>\n",
       "      <td>6.000000</td>\n",
       "      <td>9.000000</td>\n",
       "      <td>1.000000</td>\n",
       "    </tr>\n",
       "  </tbody>\n",
       "</table>\n",
       "</div>"
      ],
      "text/plain": [
       "         year    customer_id         age  no_of_days_subscribed  \\\n",
       "count  2000.0    2000.000000  2000.00000            2000.000000   \n",
       "mean   2015.0  554887.157500    38.69050              99.750000   \n",
       "std       0.0  261033.690318    10.20641              39.755386   \n",
       "min    2015.0  100198.000000    18.00000               1.000000   \n",
       "25%    2015.0  328634.750000    32.00000              73.000000   \n",
       "50%    2015.0  567957.500000    37.00000              99.000000   \n",
       "75%    2015.0  773280.250000    44.00000             127.000000   \n",
       "max    2015.0  999961.000000    82.00000             243.000000   \n",
       "\n",
       "       weekly_mins_watched  minimum_daily_mins  maximum_daily_mins  \\\n",
       "count          2000.000000         2000.000000         2000.000000   \n",
       "mean            270.178425           10.198700           30.620780   \n",
       "std              80.551627            2.785519            9.129165   \n",
       "min               0.000000            0.000000            0.000000   \n",
       "25%             218.212500            8.400000           24.735000   \n",
       "50%             269.925000           10.200000           30.590000   \n",
       "75%             324.675000           12.000000           36.797500   \n",
       "max             526.200000           20.000000           59.640000   \n",
       "\n",
       "       weekly_max_night_mins  videos_watched  maximum_days_inactive  \\\n",
       "count            2000.000000     2000.000000            1972.000000   \n",
       "mean              100.415500        4.482500               3.250507   \n",
       "std                19.529454        2.487728               0.809084   \n",
       "min                42.000000        0.000000               0.000000   \n",
       "25%                87.000000        3.000000               3.000000   \n",
       "50%               101.000000        4.000000               3.000000   \n",
       "75%               114.000000        6.000000               4.000000   \n",
       "max               175.000000       19.000000               6.000000   \n",
       "\n",
       "       customer_support_calls        churn  \n",
       "count             2000.000000  1965.000000  \n",
       "mean                 1.547000     0.133333  \n",
       "std                  1.315164     0.340021  \n",
       "min                  0.000000     0.000000  \n",
       "25%                  1.000000     0.000000  \n",
       "50%                  1.000000     0.000000  \n",
       "75%                  2.000000     0.000000  \n",
       "max                  9.000000     1.000000  "
      ]
     },
     "execution_count": 18,
     "metadata": {},
     "output_type": "execute_result"
    }
   ],
   "source": [
    "df.describe()"
   ]
  },
  {
   "cell_type": "markdown",
   "id": "ef3a7660-ea25-4ca5-86d7-b3dea5548278",
   "metadata": {},
   "source": [
    "- All the values in year column are 2015\n",
    "- If all the rows have the same value for column, standard deviation and variance is 0\n",
    "- We can delete the column as there will no impact on the analysis"
   ]
  },
  {
   "cell_type": "code",
   "execution_count": 19,
   "id": "3383d0f7-d9f6-438c-876c-243ca86e66f3",
   "metadata": {},
   "outputs": [],
   "source": [
    "df.drop(['year'], axis=1, inplace=True)"
   ]
  },
  {
   "cell_type": "code",
   "execution_count": 20,
   "id": "51bdf380-e2c8-44ff-81b5-977382a1e410",
   "metadata": {},
   "outputs": [
    {
     "data": {
      "text/html": [
       "<div>\n",
       "<style scoped>\n",
       "    .dataframe tbody tr th:only-of-type {\n",
       "        vertical-align: middle;\n",
       "    }\n",
       "\n",
       "    .dataframe tbody tr th {\n",
       "        vertical-align: top;\n",
       "    }\n",
       "\n",
       "    .dataframe thead th {\n",
       "        text-align: right;\n",
       "    }\n",
       "</style>\n",
       "<table border=\"1\" class=\"dataframe\">\n",
       "  <thead>\n",
       "    <tr style=\"text-align: right;\">\n",
       "      <th></th>\n",
       "      <th>customer_id</th>\n",
       "      <th>phone_no</th>\n",
       "      <th>gender</th>\n",
       "      <th>age</th>\n",
       "      <th>no_of_days_subscribed</th>\n",
       "      <th>multi_screen</th>\n",
       "      <th>mail_subscribed</th>\n",
       "      <th>weekly_mins_watched</th>\n",
       "      <th>minimum_daily_mins</th>\n",
       "      <th>maximum_daily_mins</th>\n",
       "      <th>weekly_max_night_mins</th>\n",
       "      <th>videos_watched</th>\n",
       "      <th>maximum_days_inactive</th>\n",
       "      <th>customer_support_calls</th>\n",
       "      <th>churn</th>\n",
       "    </tr>\n",
       "  </thead>\n",
       "  <tbody>\n",
       "    <tr>\n",
       "      <th>0</th>\n",
       "      <td>100198</td>\n",
       "      <td>409-8743</td>\n",
       "      <td>Female</td>\n",
       "      <td>36</td>\n",
       "      <td>62</td>\n",
       "      <td>no</td>\n",
       "      <td>no</td>\n",
       "      <td>148.35</td>\n",
       "      <td>12.2</td>\n",
       "      <td>16.81</td>\n",
       "      <td>82</td>\n",
       "      <td>1</td>\n",
       "      <td>4.0</td>\n",
       "      <td>1</td>\n",
       "      <td>0.0</td>\n",
       "    </tr>\n",
       "    <tr>\n",
       "      <th>1</th>\n",
       "      <td>100643</td>\n",
       "      <td>340-5930</td>\n",
       "      <td>Female</td>\n",
       "      <td>39</td>\n",
       "      <td>149</td>\n",
       "      <td>no</td>\n",
       "      <td>no</td>\n",
       "      <td>294.45</td>\n",
       "      <td>7.7</td>\n",
       "      <td>33.37</td>\n",
       "      <td>87</td>\n",
       "      <td>3</td>\n",
       "      <td>3.0</td>\n",
       "      <td>2</td>\n",
       "      <td>0.0</td>\n",
       "    </tr>\n",
       "    <tr>\n",
       "      <th>2</th>\n",
       "      <td>100756</td>\n",
       "      <td>372-3750</td>\n",
       "      <td>Female</td>\n",
       "      <td>65</td>\n",
       "      <td>126</td>\n",
       "      <td>no</td>\n",
       "      <td>no</td>\n",
       "      <td>87.30</td>\n",
       "      <td>11.9</td>\n",
       "      <td>9.89</td>\n",
       "      <td>91</td>\n",
       "      <td>1</td>\n",
       "      <td>4.0</td>\n",
       "      <td>5</td>\n",
       "      <td>1.0</td>\n",
       "    </tr>\n",
       "    <tr>\n",
       "      <th>3</th>\n",
       "      <td>101595</td>\n",
       "      <td>331-4902</td>\n",
       "      <td>Female</td>\n",
       "      <td>24</td>\n",
       "      <td>131</td>\n",
       "      <td>no</td>\n",
       "      <td>yes</td>\n",
       "      <td>321.30</td>\n",
       "      <td>9.5</td>\n",
       "      <td>36.41</td>\n",
       "      <td>102</td>\n",
       "      <td>4</td>\n",
       "      <td>3.0</td>\n",
       "      <td>3</td>\n",
       "      <td>0.0</td>\n",
       "    </tr>\n",
       "    <tr>\n",
       "      <th>4</th>\n",
       "      <td>101653</td>\n",
       "      <td>351-8398</td>\n",
       "      <td>Female</td>\n",
       "      <td>40</td>\n",
       "      <td>191</td>\n",
       "      <td>no</td>\n",
       "      <td>no</td>\n",
       "      <td>243.00</td>\n",
       "      <td>10.9</td>\n",
       "      <td>27.54</td>\n",
       "      <td>83</td>\n",
       "      <td>7</td>\n",
       "      <td>3.0</td>\n",
       "      <td>1</td>\n",
       "      <td>0.0</td>\n",
       "    </tr>\n",
       "  </tbody>\n",
       "</table>\n",
       "</div>"
      ],
      "text/plain": [
       "   customer_id  phone_no  gender  age  no_of_days_subscribed multi_screen  \\\n",
       "0       100198  409-8743  Female   36                     62           no   \n",
       "1       100643  340-5930  Female   39                    149           no   \n",
       "2       100756  372-3750  Female   65                    126           no   \n",
       "3       101595  331-4902  Female   24                    131           no   \n",
       "4       101653  351-8398  Female   40                    191           no   \n",
       "\n",
       "  mail_subscribed  weekly_mins_watched  minimum_daily_mins  \\\n",
       "0              no               148.35                12.2   \n",
       "1              no               294.45                 7.7   \n",
       "2              no                87.30                11.9   \n",
       "3             yes               321.30                 9.5   \n",
       "4              no               243.00                10.9   \n",
       "\n",
       "   maximum_daily_mins  weekly_max_night_mins  videos_watched  \\\n",
       "0               16.81                     82               1   \n",
       "1               33.37                     87               3   \n",
       "2                9.89                     91               1   \n",
       "3               36.41                    102               4   \n",
       "4               27.54                     83               7   \n",
       "\n",
       "   maximum_days_inactive  customer_support_calls  churn  \n",
       "0                    4.0                       1    0.0  \n",
       "1                    3.0                       2    0.0  \n",
       "2                    4.0                       5    1.0  \n",
       "3                    3.0                       3    0.0  \n",
       "4                    3.0                       1    0.0  "
      ]
     },
     "execution_count": 20,
     "metadata": {},
     "output_type": "execute_result"
    }
   ],
   "source": [
    "df.head()"
   ]
  },
  {
   "cell_type": "raw",
   "id": "a7247a85-d0d4-43bc-aed1-287032d226b8",
   "metadata": {},
   "source": [
    "Since the churn column is categorical, let's change the values\n",
    "0.0 => Subscribed\n",
    "1.0 => Unsubscriber"
   ]
  },
  {
   "cell_type": "code",
   "execution_count": 29,
   "id": "1823b524-f10b-4f93-bcbe-e67c157c1b23",
   "metadata": {},
   "outputs": [
    {
     "data": {
      "text/plain": [
       "0       NaN\n",
       "1       NaN\n",
       "2       NaN\n",
       "3       NaN\n",
       "4       NaN\n",
       "       ... \n",
       "1995    NaN\n",
       "1996    NaN\n",
       "1997    NaN\n",
       "1998    NaN\n",
       "1999    NaN\n",
       "Name: churn, Length: 2000, dtype: object"
      ]
     },
     "execution_count": 29,
     "metadata": {},
     "output_type": "execute_result"
    }
   ],
   "source": [
    "df['churn'].map({0.0: 'Subscriber', 1.0: 'Unsubscribed'})"
   ]
  },
  {
   "cell_type": "code",
   "execution_count": 23,
   "id": "6fb630b4-fcf9-49ad-a3d0-48b2dcc863db",
   "metadata": {},
   "outputs": [],
   "source": [
    "df['churn'] = df['churn'].map({0.0: 'Subscriber', 1.0: 'Unsubscribed'})"
   ]
  },
  {
   "cell_type": "code",
   "execution_count": 30,
   "id": "cb0a54b9-4b0f-4c7e-9a02-9f2b1aa6696d",
   "metadata": {},
   "outputs": [
    {
     "data": {
      "text/html": [
       "<div>\n",
       "<style scoped>\n",
       "    .dataframe tbody tr th:only-of-type {\n",
       "        vertical-align: middle;\n",
       "    }\n",
       "\n",
       "    .dataframe tbody tr th {\n",
       "        vertical-align: top;\n",
       "    }\n",
       "\n",
       "    .dataframe thead th {\n",
       "        text-align: right;\n",
       "    }\n",
       "</style>\n",
       "<table border=\"1\" class=\"dataframe\">\n",
       "  <thead>\n",
       "    <tr style=\"text-align: right;\">\n",
       "      <th></th>\n",
       "      <th>customer_id</th>\n",
       "      <th>phone_no</th>\n",
       "      <th>gender</th>\n",
       "      <th>age</th>\n",
       "      <th>no_of_days_subscribed</th>\n",
       "      <th>multi_screen</th>\n",
       "      <th>mail_subscribed</th>\n",
       "      <th>weekly_mins_watched</th>\n",
       "      <th>minimum_daily_mins</th>\n",
       "      <th>maximum_daily_mins</th>\n",
       "      <th>weekly_max_night_mins</th>\n",
       "      <th>videos_watched</th>\n",
       "      <th>maximum_days_inactive</th>\n",
       "      <th>customer_support_calls</th>\n",
       "      <th>churn</th>\n",
       "    </tr>\n",
       "  </thead>\n",
       "  <tbody>\n",
       "    <tr>\n",
       "      <th>0</th>\n",
       "      <td>100198</td>\n",
       "      <td>409-8743</td>\n",
       "      <td>Female</td>\n",
       "      <td>36</td>\n",
       "      <td>62</td>\n",
       "      <td>no</td>\n",
       "      <td>no</td>\n",
       "      <td>148.35</td>\n",
       "      <td>12.2</td>\n",
       "      <td>16.81</td>\n",
       "      <td>82</td>\n",
       "      <td>1</td>\n",
       "      <td>4.0</td>\n",
       "      <td>1</td>\n",
       "      <td>Subscriber</td>\n",
       "    </tr>\n",
       "    <tr>\n",
       "      <th>1</th>\n",
       "      <td>100643</td>\n",
       "      <td>340-5930</td>\n",
       "      <td>Female</td>\n",
       "      <td>39</td>\n",
       "      <td>149</td>\n",
       "      <td>no</td>\n",
       "      <td>no</td>\n",
       "      <td>294.45</td>\n",
       "      <td>7.7</td>\n",
       "      <td>33.37</td>\n",
       "      <td>87</td>\n",
       "      <td>3</td>\n",
       "      <td>3.0</td>\n",
       "      <td>2</td>\n",
       "      <td>Subscriber</td>\n",
       "    </tr>\n",
       "    <tr>\n",
       "      <th>2</th>\n",
       "      <td>100756</td>\n",
       "      <td>372-3750</td>\n",
       "      <td>Female</td>\n",
       "      <td>65</td>\n",
       "      <td>126</td>\n",
       "      <td>no</td>\n",
       "      <td>no</td>\n",
       "      <td>87.30</td>\n",
       "      <td>11.9</td>\n",
       "      <td>9.89</td>\n",
       "      <td>91</td>\n",
       "      <td>1</td>\n",
       "      <td>4.0</td>\n",
       "      <td>5</td>\n",
       "      <td>Unsubscribed</td>\n",
       "    </tr>\n",
       "    <tr>\n",
       "      <th>3</th>\n",
       "      <td>101595</td>\n",
       "      <td>331-4902</td>\n",
       "      <td>Female</td>\n",
       "      <td>24</td>\n",
       "      <td>131</td>\n",
       "      <td>no</td>\n",
       "      <td>yes</td>\n",
       "      <td>321.30</td>\n",
       "      <td>9.5</td>\n",
       "      <td>36.41</td>\n",
       "      <td>102</td>\n",
       "      <td>4</td>\n",
       "      <td>3.0</td>\n",
       "      <td>3</td>\n",
       "      <td>Subscriber</td>\n",
       "    </tr>\n",
       "    <tr>\n",
       "      <th>4</th>\n",
       "      <td>101653</td>\n",
       "      <td>351-8398</td>\n",
       "      <td>Female</td>\n",
       "      <td>40</td>\n",
       "      <td>191</td>\n",
       "      <td>no</td>\n",
       "      <td>no</td>\n",
       "      <td>243.00</td>\n",
       "      <td>10.9</td>\n",
       "      <td>27.54</td>\n",
       "      <td>83</td>\n",
       "      <td>7</td>\n",
       "      <td>3.0</td>\n",
       "      <td>1</td>\n",
       "      <td>Subscriber</td>\n",
       "    </tr>\n",
       "  </tbody>\n",
       "</table>\n",
       "</div>"
      ],
      "text/plain": [
       "   customer_id  phone_no  gender  age  no_of_days_subscribed multi_screen  \\\n",
       "0       100198  409-8743  Female   36                     62           no   \n",
       "1       100643  340-5930  Female   39                    149           no   \n",
       "2       100756  372-3750  Female   65                    126           no   \n",
       "3       101595  331-4902  Female   24                    131           no   \n",
       "4       101653  351-8398  Female   40                    191           no   \n",
       "\n",
       "  mail_subscribed  weekly_mins_watched  minimum_daily_mins  \\\n",
       "0              no               148.35                12.2   \n",
       "1              no               294.45                 7.7   \n",
       "2              no                87.30                11.9   \n",
       "3             yes               321.30                 9.5   \n",
       "4              no               243.00                10.9   \n",
       "\n",
       "   maximum_daily_mins  weekly_max_night_mins  videos_watched  \\\n",
       "0               16.81                     82               1   \n",
       "1               33.37                     87               3   \n",
       "2                9.89                     91               1   \n",
       "3               36.41                    102               4   \n",
       "4               27.54                     83               7   \n",
       "\n",
       "   maximum_days_inactive  customer_support_calls         churn  \n",
       "0                    4.0                       1    Subscriber  \n",
       "1                    3.0                       2    Subscriber  \n",
       "2                    4.0                       5  Unsubscribed  \n",
       "3                    3.0                       3    Subscriber  \n",
       "4                    3.0                       1    Subscriber  "
      ]
     },
     "execution_count": 30,
     "metadata": {},
     "output_type": "execute_result"
    }
   ],
   "source": [
    "df.head()"
   ]
  },
  {
   "cell_type": "code",
   "execution_count": 32,
   "id": "f7fa4828-0224-4653-a0a4-d0fef19f48a5",
   "metadata": {},
   "outputs": [
    {
     "data": {
      "text/html": [
       "<div>\n",
       "<style scoped>\n",
       "    .dataframe tbody tr th:only-of-type {\n",
       "        vertical-align: middle;\n",
       "    }\n",
       "\n",
       "    .dataframe tbody tr th {\n",
       "        vertical-align: top;\n",
       "    }\n",
       "\n",
       "    .dataframe thead th {\n",
       "        text-align: right;\n",
       "    }\n",
       "</style>\n",
       "<table border=\"1\" class=\"dataframe\">\n",
       "  <thead>\n",
       "    <tr style=\"text-align: right;\">\n",
       "      <th></th>\n",
       "      <th>phone_no</th>\n",
       "      <th>gender</th>\n",
       "      <th>multi_screen</th>\n",
       "      <th>mail_subscribed</th>\n",
       "      <th>churn</th>\n",
       "    </tr>\n",
       "  </thead>\n",
       "  <tbody>\n",
       "    <tr>\n",
       "      <th>count</th>\n",
       "      <td>2000</td>\n",
       "      <td>1976</td>\n",
       "      <td>2000</td>\n",
       "      <td>2000</td>\n",
       "      <td>1965</td>\n",
       "    </tr>\n",
       "    <tr>\n",
       "      <th>unique</th>\n",
       "      <td>2000</td>\n",
       "      <td>2</td>\n",
       "      <td>2</td>\n",
       "      <td>2</td>\n",
       "      <td>2</td>\n",
       "    </tr>\n",
       "    <tr>\n",
       "      <th>top</th>\n",
       "      <td>409-8743</td>\n",
       "      <td>Male</td>\n",
       "      <td>no</td>\n",
       "      <td>no</td>\n",
       "      <td>Subscriber</td>\n",
       "    </tr>\n",
       "    <tr>\n",
       "      <th>freq</th>\n",
       "      <td>1</td>\n",
       "      <td>1053</td>\n",
       "      <td>1802</td>\n",
       "      <td>1430</td>\n",
       "      <td>1703</td>\n",
       "    </tr>\n",
       "  </tbody>\n",
       "</table>\n",
       "</div>"
      ],
      "text/plain": [
       "        phone_no gender multi_screen mail_subscribed       churn\n",
       "count       2000   1976         2000            2000        1965\n",
       "unique      2000      2            2               2           2\n",
       "top     409-8743   Male           no              no  Subscriber\n",
       "freq           1   1053         1802            1430        1703"
      ]
     },
     "execution_count": 32,
     "metadata": {},
     "output_type": "execute_result"
    }
   ],
   "source": [
    "df.describe(include=object) # string values"
   ]
  },
  {
   "cell_type": "code",
   "execution_count": 34,
   "id": "661d75f5-410a-4625-b6c7-fdf9ccd2e5dc",
   "metadata": {},
   "outputs": [
    {
     "data": {
      "text/plain": [
       "0       409-8743\n",
       "1       340-5930\n",
       "2       372-3750\n",
       "3       331-4902\n",
       "4       351-8398\n",
       "          ...   \n",
       "1995    385-7387\n",
       "1996    383-9255\n",
       "1997    353-2080\n",
       "1998    359-7788\n",
       "1999    414-1496\n",
       "Name: phone_no, Length: 2000, dtype: object"
      ]
     },
     "execution_count": 34,
     "metadata": {},
     "output_type": "execute_result"
    }
   ],
   "source": [
    "df['phone_no']"
   ]
  },
  {
   "cell_type": "code",
   "execution_count": 35,
   "id": "cdd7bc2a-48b2-4088-96c7-0f7dc9a42673",
   "metadata": {},
   "outputs": [
    {
     "data": {
      "text/plain": [
       "gender\n",
       "Male      1053\n",
       "Female     923\n",
       "NaN         24\n",
       "Name: count, dtype: int64"
      ]
     },
     "execution_count": 35,
     "metadata": {},
     "output_type": "execute_result"
    }
   ],
   "source": [
    "# Give gender wise count of customers\n",
    "df['gender'].value_counts(dropna=False)"
   ]
  },
  {
   "cell_type": "code",
   "execution_count": 36,
   "id": "a9957c02-6660-4085-a19b-6ef58d646888",
   "metadata": {},
   "outputs": [
    {
     "data": {
      "text/plain": [
       "0    Male\n",
       "Name: gender, dtype: object"
      ]
     },
     "execution_count": 36,
     "metadata": {},
     "output_type": "execute_result"
    }
   ],
   "source": [
    "df['gender'].mode() # max time appeared"
   ]
  },
  {
   "cell_type": "code",
   "execution_count": 38,
   "id": "81e1c448-3b91-4a50-93f7-fc73813b6de4",
   "metadata": {},
   "outputs": [
    {
     "data": {
      "text/plain": [
       "1053"
      ]
     },
     "execution_count": 38,
     "metadata": {},
     "output_type": "execute_result"
    }
   ],
   "source": [
    "df['gender'].value_counts(dropna=False).max()"
   ]
  },
  {
   "cell_type": "code",
   "execution_count": 39,
   "id": "2bcd4229-e2f4-4946-9cc8-d6ae7e59b3ec",
   "metadata": {},
   "outputs": [
    {
     "data": {
      "text/plain": [
       "'Male'"
      ]
     },
     "execution_count": 39,
     "metadata": {},
     "output_type": "execute_result"
    }
   ],
   "source": [
    "df['gender'].value_counts(dropna=False).idxmax()"
   ]
  },
  {
   "cell_type": "code",
   "execution_count": 40,
   "id": "9be36a31-d7f5-4c53-90f7-bd1098151c0a",
   "metadata": {},
   "outputs": [
    {
     "data": {
      "text/html": [
       "<div>\n",
       "<style scoped>\n",
       "    .dataframe tbody tr th:only-of-type {\n",
       "        vertical-align: middle;\n",
       "    }\n",
       "\n",
       "    .dataframe tbody tr th {\n",
       "        vertical-align: top;\n",
       "    }\n",
       "\n",
       "    .dataframe thead th {\n",
       "        text-align: right;\n",
       "    }\n",
       "</style>\n",
       "<table border=\"1\" class=\"dataframe\">\n",
       "  <thead>\n",
       "    <tr style=\"text-align: right;\">\n",
       "      <th></th>\n",
       "      <th>phone_no</th>\n",
       "      <th>gender</th>\n",
       "      <th>multi_screen</th>\n",
       "      <th>mail_subscribed</th>\n",
       "      <th>churn</th>\n",
       "    </tr>\n",
       "  </thead>\n",
       "  <tbody>\n",
       "    <tr>\n",
       "      <th>count</th>\n",
       "      <td>2000</td>\n",
       "      <td>1976</td>\n",
       "      <td>2000</td>\n",
       "      <td>2000</td>\n",
       "      <td>1965</td>\n",
       "    </tr>\n",
       "    <tr>\n",
       "      <th>unique</th>\n",
       "      <td>2000</td>\n",
       "      <td>2</td>\n",
       "      <td>2</td>\n",
       "      <td>2</td>\n",
       "      <td>2</td>\n",
       "    </tr>\n",
       "    <tr>\n",
       "      <th>top</th>\n",
       "      <td>409-8743</td>\n",
       "      <td>Male</td>\n",
       "      <td>no</td>\n",
       "      <td>no</td>\n",
       "      <td>Subscriber</td>\n",
       "    </tr>\n",
       "    <tr>\n",
       "      <th>freq</th>\n",
       "      <td>1</td>\n",
       "      <td>1053</td>\n",
       "      <td>1802</td>\n",
       "      <td>1430</td>\n",
       "      <td>1703</td>\n",
       "    </tr>\n",
       "  </tbody>\n",
       "</table>\n",
       "</div>"
      ],
      "text/plain": [
       "        phone_no gender multi_screen mail_subscribed       churn\n",
       "count       2000   1976         2000            2000        1965\n",
       "unique      2000      2            2               2           2\n",
       "top     409-8743   Male           no              no  Subscriber\n",
       "freq           1   1053         1802            1430        1703"
      ]
     },
     "execution_count": 40,
     "metadata": {},
     "output_type": "execute_result"
    }
   ],
   "source": [
    "df.describe(include=object)"
   ]
  },
  {
   "cell_type": "code",
   "execution_count": 41,
   "id": "67c92993-111b-4dd4-9fdc-6d7ccdbf05bf",
   "metadata": {},
   "outputs": [
    {
     "data": {
      "text/plain": [
       "multi_screen\n",
       "no     1802\n",
       "yes     198\n",
       "Name: count, dtype: int64"
      ]
     },
     "execution_count": 41,
     "metadata": {},
     "output_type": "execute_result"
    }
   ],
   "source": [
    "df['multi_screen'].value_counts(dropna=False)"
   ]
  },
  {
   "cell_type": "code",
   "execution_count": 42,
   "id": "8aa5f8b8-36ba-44a3-8d61-743644915fb0",
   "metadata": {},
   "outputs": [
    {
     "data": {
      "text/plain": [
       "mail_subscribed\n",
       "no     1430\n",
       "yes     570\n",
       "Name: count, dtype: int64"
      ]
     },
     "execution_count": 42,
     "metadata": {},
     "output_type": "execute_result"
    }
   ],
   "source": [
    "df['mail_subscribed'].value_counts(dropna=False)"
   ]
  },
  {
   "cell_type": "code",
   "execution_count": 43,
   "id": "9ef2a3ab-576e-4db7-8d63-b4f6c2b5cef9",
   "metadata": {},
   "outputs": [
    {
     "data": {
      "text/plain": [
       "churn\n",
       "Subscriber      1703\n",
       "Unsubscribed     262\n",
       "NaN               35\n",
       "Name: count, dtype: int64"
      ]
     },
     "execution_count": 43,
     "metadata": {},
     "output_type": "execute_result"
    }
   ],
   "source": [
    "df['churn'].value_counts(dropna=False)"
   ]
  },
  {
   "cell_type": "code",
   "execution_count": 44,
   "id": "4c926a6c-3751-48c5-9d56-7557d9820b83",
   "metadata": {},
   "outputs": [
    {
     "data": {
      "text/html": [
       "<div>\n",
       "<style scoped>\n",
       "    .dataframe tbody tr th:only-of-type {\n",
       "        vertical-align: middle;\n",
       "    }\n",
       "\n",
       "    .dataframe tbody tr th {\n",
       "        vertical-align: top;\n",
       "    }\n",
       "\n",
       "    .dataframe thead th {\n",
       "        text-align: right;\n",
       "    }\n",
       "</style>\n",
       "<table border=\"1\" class=\"dataframe\">\n",
       "  <thead>\n",
       "    <tr style=\"text-align: right;\">\n",
       "      <th></th>\n",
       "      <th>customer_id</th>\n",
       "      <th>phone_no</th>\n",
       "      <th>gender</th>\n",
       "      <th>age</th>\n",
       "      <th>no_of_days_subscribed</th>\n",
       "      <th>multi_screen</th>\n",
       "      <th>mail_subscribed</th>\n",
       "      <th>weekly_mins_watched</th>\n",
       "      <th>minimum_daily_mins</th>\n",
       "      <th>maximum_daily_mins</th>\n",
       "      <th>weekly_max_night_mins</th>\n",
       "      <th>videos_watched</th>\n",
       "      <th>maximum_days_inactive</th>\n",
       "      <th>customer_support_calls</th>\n",
       "      <th>churn</th>\n",
       "    </tr>\n",
       "  </thead>\n",
       "  <tbody>\n",
       "    <tr>\n",
       "      <th>0</th>\n",
       "      <td>100198</td>\n",
       "      <td>409-8743</td>\n",
       "      <td>Female</td>\n",
       "      <td>36</td>\n",
       "      <td>62</td>\n",
       "      <td>no</td>\n",
       "      <td>no</td>\n",
       "      <td>148.35</td>\n",
       "      <td>12.2</td>\n",
       "      <td>16.81</td>\n",
       "      <td>82</td>\n",
       "      <td>1</td>\n",
       "      <td>4.0</td>\n",
       "      <td>1</td>\n",
       "      <td>Subscriber</td>\n",
       "    </tr>\n",
       "    <tr>\n",
       "      <th>1</th>\n",
       "      <td>100643</td>\n",
       "      <td>340-5930</td>\n",
       "      <td>Female</td>\n",
       "      <td>39</td>\n",
       "      <td>149</td>\n",
       "      <td>no</td>\n",
       "      <td>no</td>\n",
       "      <td>294.45</td>\n",
       "      <td>7.7</td>\n",
       "      <td>33.37</td>\n",
       "      <td>87</td>\n",
       "      <td>3</td>\n",
       "      <td>3.0</td>\n",
       "      <td>2</td>\n",
       "      <td>Subscriber</td>\n",
       "    </tr>\n",
       "    <tr>\n",
       "      <th>2</th>\n",
       "      <td>100756</td>\n",
       "      <td>372-3750</td>\n",
       "      <td>Female</td>\n",
       "      <td>65</td>\n",
       "      <td>126</td>\n",
       "      <td>no</td>\n",
       "      <td>no</td>\n",
       "      <td>87.30</td>\n",
       "      <td>11.9</td>\n",
       "      <td>9.89</td>\n",
       "      <td>91</td>\n",
       "      <td>1</td>\n",
       "      <td>4.0</td>\n",
       "      <td>5</td>\n",
       "      <td>Unsubscribed</td>\n",
       "    </tr>\n",
       "    <tr>\n",
       "      <th>3</th>\n",
       "      <td>101595</td>\n",
       "      <td>331-4902</td>\n",
       "      <td>Female</td>\n",
       "      <td>24</td>\n",
       "      <td>131</td>\n",
       "      <td>no</td>\n",
       "      <td>yes</td>\n",
       "      <td>321.30</td>\n",
       "      <td>9.5</td>\n",
       "      <td>36.41</td>\n",
       "      <td>102</td>\n",
       "      <td>4</td>\n",
       "      <td>3.0</td>\n",
       "      <td>3</td>\n",
       "      <td>Subscriber</td>\n",
       "    </tr>\n",
       "    <tr>\n",
       "      <th>4</th>\n",
       "      <td>101653</td>\n",
       "      <td>351-8398</td>\n",
       "      <td>Female</td>\n",
       "      <td>40</td>\n",
       "      <td>191</td>\n",
       "      <td>no</td>\n",
       "      <td>no</td>\n",
       "      <td>243.00</td>\n",
       "      <td>10.9</td>\n",
       "      <td>27.54</td>\n",
       "      <td>83</td>\n",
       "      <td>7</td>\n",
       "      <td>3.0</td>\n",
       "      <td>1</td>\n",
       "      <td>Subscriber</td>\n",
       "    </tr>\n",
       "  </tbody>\n",
       "</table>\n",
       "</div>"
      ],
      "text/plain": [
       "   customer_id  phone_no  gender  age  no_of_days_subscribed multi_screen  \\\n",
       "0       100198  409-8743  Female   36                     62           no   \n",
       "1       100643  340-5930  Female   39                    149           no   \n",
       "2       100756  372-3750  Female   65                    126           no   \n",
       "3       101595  331-4902  Female   24                    131           no   \n",
       "4       101653  351-8398  Female   40                    191           no   \n",
       "\n",
       "  mail_subscribed  weekly_mins_watched  minimum_daily_mins  \\\n",
       "0              no               148.35                12.2   \n",
       "1              no               294.45                 7.7   \n",
       "2              no                87.30                11.9   \n",
       "3             yes               321.30                 9.5   \n",
       "4              no               243.00                10.9   \n",
       "\n",
       "   maximum_daily_mins  weekly_max_night_mins  videos_watched  \\\n",
       "0               16.81                     82               1   \n",
       "1               33.37                     87               3   \n",
       "2                9.89                     91               1   \n",
       "3               36.41                    102               4   \n",
       "4               27.54                     83               7   \n",
       "\n",
       "   maximum_days_inactive  customer_support_calls         churn  \n",
       "0                    4.0                       1    Subscriber  \n",
       "1                    3.0                       2    Subscriber  \n",
       "2                    4.0                       5  Unsubscribed  \n",
       "3                    3.0                       3    Subscriber  \n",
       "4                    3.0                       1    Subscriber  "
      ]
     },
     "execution_count": 44,
     "metadata": {},
     "output_type": "execute_result"
    }
   ],
   "source": [
    "df.head()"
   ]
  },
  {
   "cell_type": "code",
   "execution_count": 45,
   "id": "577eb2cb-5cda-407b-a2d3-6e47e4b339e8",
   "metadata": {},
   "outputs": [
    {
     "data": {
      "text/plain": [
       "customer_id                     101953\n",
       "phone_no                      329-6603\n",
       "gender                             NaN\n",
       "age                                 31\n",
       "no_of_days_subscribed               65\n",
       "multi_screen                        no\n",
       "mail_subscribed                     no\n",
       "weekly_mins_watched             193.65\n",
       "minimum_daily_mins                12.7\n",
       "maximum_daily_mins               21.95\n",
       "weekly_max_night_mins              111\n",
       "videos_watched                       6\n",
       "maximum_days_inactive              4.0\n",
       "customer_support_calls               4\n",
       "churn                     Unsubscribed\n",
       "Name: 5, dtype: object"
      ]
     },
     "execution_count": 45,
     "metadata": {},
     "output_type": "execute_result"
    }
   ],
   "source": [
    "df.loc[5]"
   ]
  },
  {
   "cell_type": "markdown",
   "id": "ddecabfd-cb14-4aeb-82e2-5d61c49e275b",
   "metadata": {},
   "source": [
    "### UNIQUE VALUE ANALYSIS"
   ]
  },
  {
   "cell_type": "code",
   "execution_count": 46,
   "id": "e46e4d31-b62f-4405-8a43-0e20554340e7",
   "metadata": {},
   "outputs": [
    {
     "data": {
      "text/plain": [
       "customer_id               1999\n",
       "phone_no                  2000\n",
       "gender                       2\n",
       "age                         63\n",
       "no_of_days_subscribed      204\n",
       "multi_screen                 2\n",
       "mail_subscribed              2\n",
       "weekly_mins_watched       1260\n",
       "minimum_daily_mins         149\n",
       "maximum_daily_mins        1260\n",
       "weekly_max_night_mins      111\n",
       "videos_watched              19\n",
       "maximum_days_inactive        7\n",
       "customer_support_calls      10\n",
       "churn                        2\n",
       "dtype: int64"
      ]
     },
     "execution_count": 46,
     "metadata": {},
     "output_type": "execute_result"
    }
   ],
   "source": [
    "df.nunique()"
   ]
  },
  {
   "cell_type": "code",
   "execution_count": 53,
   "id": "bee34ef1-0959-48b2-9d10-f5a0df2a25ba",
   "metadata": {},
   "outputs": [
    {
     "data": {
      "text/plain": [
       "0    4.0\n",
       "1    3.0\n",
       "2    4.0\n",
       "3    3.0\n",
       "4    3.0\n",
       "Name: maximum_days_inactive, dtype: float64"
      ]
     },
     "execution_count": 53,
     "metadata": {},
     "output_type": "execute_result"
    }
   ],
   "source": [
    "df['maximum_days_inactive'].head()"
   ]
  },
  {
   "cell_type": "code",
   "execution_count": 48,
   "id": "d0e75982-e63b-4ddb-b6f6-96d7bdcba2a6",
   "metadata": {},
   "outputs": [
    {
     "data": {
      "text/plain": [
       "maximum_days_inactive\n",
       "3.0    945\n",
       "4.0    645\n",
       "2.0    273\n",
       "5.0     85\n",
       "1.0     12\n",
       "0.0     10\n",
       "6.0      2\n",
       "Name: count, dtype: int64"
      ]
     },
     "execution_count": 48,
     "metadata": {},
     "output_type": "execute_result"
    }
   ],
   "source": [
    "df['maximum_days_inactive'].value_counts()"
   ]
  },
  {
   "cell_type": "markdown",
   "id": "dc4efe36-a92e-4473-94a7-405d4ffcd0ea",
   "metadata": {},
   "source": [
    "### % of each category of categorical cols"
   ]
  },
  {
   "cell_type": "markdown",
   "id": "0bcd7b4e-ba91-4e7d-bc9d-f09a3150ea7c",
   "metadata": {},
   "source": [
    "Categorical columns are :\n",
    "- gender\n",
    "- multi_screen\n",
    "- mail_subscribed\n",
    "- churn"
   ]
  },
  {
   "cell_type": "code",
   "execution_count": 52,
   "id": "a4f99cb7-58f3-4e73-84b7-bc82891ebcc1",
   "metadata": {},
   "outputs": [
    {
     "data": {
      "text/plain": [
       "gender\n",
       "Male      52.65\n",
       "Female    46.15\n",
       "NaN        1.20\n",
       "Name: proportion, dtype: float64"
      ]
     },
     "execution_count": 52,
     "metadata": {},
     "output_type": "execute_result"
    }
   ],
   "source": [
    "df['gender'].value_counts(dropna=False, normalize=True) * 100"
   ]
  },
  {
   "cell_type": "code",
   "execution_count": 54,
   "id": "755beb14-9274-48d9-b383-bacab9378aba",
   "metadata": {},
   "outputs": [
    {
     "data": {
      "text/plain": [
       "multi_screen\n",
       "no     90.1\n",
       "yes     9.9\n",
       "Name: proportion, dtype: float64"
      ]
     },
     "execution_count": 54,
     "metadata": {},
     "output_type": "execute_result"
    }
   ],
   "source": [
    "df['multi_screen'].value_counts(dropna=False, normalize=True) * 100"
   ]
  },
  {
   "cell_type": "code",
   "execution_count": 56,
   "id": "60a79db2-c635-4fe5-a318-82d258f006b9",
   "metadata": {},
   "outputs": [
    {
     "data": {
      "text/plain": [
       "mail_subscribed\n",
       "no     71.5\n",
       "yes    28.5\n",
       "Name: proportion, dtype: float64"
      ]
     },
     "execution_count": 56,
     "metadata": {},
     "output_type": "execute_result"
    }
   ],
   "source": [
    "df['mail_subscribed'].value_counts(dropna=False, normalize=True) * 100"
   ]
  },
  {
   "cell_type": "code",
   "execution_count": 57,
   "id": "8e66f84c-c65e-404a-9372-f9e0daf7ab53",
   "metadata": {},
   "outputs": [
    {
     "data": {
      "text/plain": [
       "churn\n",
       "Subscriber      85.15\n",
       "Unsubscribed    13.10\n",
       "NaN              1.75\n",
       "Name: proportion, dtype: float64"
      ]
     },
     "execution_count": 57,
     "metadata": {},
     "output_type": "execute_result"
    }
   ],
   "source": [
    "df['churn'].value_counts(dropna=False, normalize=True) * 100"
   ]
  },
  {
   "cell_type": "markdown",
   "id": "e46818b0-208d-4c80-8f84-ba2dc3f08733",
   "metadata": {},
   "source": [
    "# Visuals"
   ]
  },
  {
   "cell_type": "code",
   "execution_count": 60,
   "id": "b3adf501-c744-4177-a1fd-d54ad217ee04",
   "metadata": {},
   "outputs": [
    {
     "data": {
      "image/png": "[encoded data removed]",
      "text/plain": [
       "<Figure size 640x480 with 1 Axes>"
      ]
     },
     "metadata": {},
     "output_type": "display_data"
    }
   ],
   "source": [
    "sns.countplot(x='gender', data=df)\n",
    "plt.show()"
   ]
  },
  {
   "cell_type": "code",
   "execution_count": 63,
   "id": "ce2c4db7-7a31-4051-a0df-06f6acf9c976",
   "metadata": {},
   "outputs": [
    {
     "data": {
      "image/png": "[encoded data removed]",
      "text/plain": [
       "<Figure size 640x480 with 1 Axes>"
      ]
     },
     "metadata": {},
     "output_type": "display_data"
    }
   ],
   "source": [
    "cp = sns.countplot(x='gender', data=df)\n",
    "for i in cp.containers:\n",
    "    cp.bar_label(i)\n",
    "plt.show()"
   ]
  },
  {
   "cell_type": "markdown",
   "id": "e8be3ba4-5f4e-4005-89f1-7040c7b20082",
   "metadata": {},
   "source": [
    "### PIE charts"
   ]
  },
  {
   "cell_type": "code",
   "execution_count": 64,
   "id": "ad1685ed-3225-41a8-9fb9-9f2099381bfb",
   "metadata": {},
   "outputs": [
    {
     "data": {
      "image/png": "[encoded data removed]",
      "text/plain": [
       "<Figure size 640x480 with 1 Axes>"
      ]
     },
     "metadata": {},
     "output_type": "display_data"
    }
   ],
   "source": [
    "plt.pie(df['gender'].value_counts())\n",
    "plt.show()"
   ]
  },
  {
   "cell_type": "code",
   "execution_count": 65,
   "id": "7cdcf4d7-67c1-424d-b6d4-f6c98748ffc8",
   "metadata": {},
   "outputs": [
    {
     "data": {
      "text/plain": [
       "gender\n",
       "Male      1053\n",
       "Female     923\n",
       "Name: count, dtype: int64"
      ]
     },
     "execution_count": 65,
     "metadata": {},
     "output_type": "execute_result"
    }
   ],
   "source": [
    "df['gender'].value_counts()"
   ]
  },
  {
   "cell_type": "code",
   "execution_count": 66,
   "id": "55cef5f1-b188-4c88-a3bc-1375960eb29a",
   "metadata": {},
   "outputs": [
    {
     "data": {
      "text/plain": [
       "Index(['Male', 'Female'], dtype='object', name='gender')"
      ]
     },
     "execution_count": 66,
     "metadata": {},
     "output_type": "execute_result"
    }
   ],
   "source": [
    "df['gender'].value_counts().index"
   ]
  },
  {
   "cell_type": "code",
   "execution_count": 67,
   "id": "9846236f-1dd3-4cf8-a781-a2633f01e182",
   "metadata": {},
   "outputs": [
    {
     "data": {
      "image/png": "[encoded data removed]",
      "text/plain": [
       "<Figure size 640x480 with 1 Axes>"
      ]
     },
     "metadata": {},
     "output_type": "display_data"
    }
   ],
   "source": [
    "plt.pie(df['gender'].value_counts(), labels=df['gender'].value_counts().index)\n",
    "plt.show()"
   ]
  },
  {
   "cell_type": "code",
   "execution_count": 68,
   "id": "55ab7ef9-fb80-438e-971f-8f5c5aa8efbf",
   "metadata": {},
   "outputs": [
    {
     "data": {
      "image/png": "[encoded data removed]",
      "text/plain": [
       "<Figure size 640x480 with 1 Axes>"
      ]
     },
     "metadata": {},
     "output_type": "display_data"
    }
   ],
   "source": [
    "plt.pie(df['gender'].value_counts(), labels=df['gender'].value_counts().index, autopct='%.2f%%')\n",
    "plt.show()"
   ]
  },
  {
   "cell_type": "code",
   "execution_count": 70,
   "id": "c77fb8d8-430f-47d0-b718-165aa48b98eb",
   "metadata": {},
   "outputs": [
    {
     "data": {
      "image/png": "[encoded data removed]",
      "text/plain": [
       "<Figure size 640x480 with 1 Axes>"
      ]
     },
     "metadata": {},
     "output_type": "display_data"
    }
   ],
   "source": [
    "plt.pie(df['gender'].value_counts(dropna=False), labels=df['gender'].value_counts(dropna=False).index, autopct='%.2f%%')\n",
    "plt.show()"
   ]
  },
  {
   "cell_type": "code",
   "execution_count": 71,
   "id": "bbc4727f-0bb0-40b5-8ff6-58cba72f0186",
   "metadata": {},
   "outputs": [
    {
     "data": {
      "text/plain": [
       "[]"
      ]
     },
     "execution_count": 71,
     "metadata": {},
     "output_type": "execute_result"
    },
    {
     "data": {
      "image/png": "[encoded data removed]",
      "text/plain": [
       "<Figure size 640x480 with 1 Axes>"
      ]
     },
     "metadata": {},
     "output_type": "display_data"
    }
   ],
   "source": [
    "plt.bar(df['gender'].value_counts().index, df['gender'].value_counts())\n",
    "plt.plot()"
   ]
  },
  {
   "cell_type": "code",
   "execution_count": 74,
   "id": "61788a51-d715-4c68-93d6-0a4bd807d4e6",
   "metadata": {},
   "outputs": [
    {
     "data": {
      "image/png": "[encoded data removed]",
      "text/plain": [
       "<Figure size 640x480 with 1 Axes>"
      ]
     },
     "metadata": {},
     "output_type": "display_data"
    }
   ],
   "source": [
    "plt.pie( df['multi_screen'].value_counts(dropna=False), labels=df['multi_screen'].value_counts(dropna=False).index, autopct='%.2f%%' )\n",
    "plt.title('Multiscreen subscribers')\n",
    "plt.show()"
   ]
  },
  {
   "cell_type": "code",
   "execution_count": 75,
   "id": "04a325b2-4098-46b4-80b1-73fd4045cbd7",
   "metadata": {},
   "outputs": [
    {
     "data": {
      "image/png": "[encoded data removed]",
      "text/plain": [
       "<Figure size 640x480 with 1 Axes>"
      ]
     },
     "metadata": {},
     "output_type": "display_data"
    }
   ],
   "source": [
    "plt.pie( df['mail_subscribed'].value_counts(dropna=False), labels=df['mail_subscribed'].value_counts(dropna=False).index, autopct='%.2f%%' )\n",
    "plt.show()"
   ]
  },
  {
   "cell_type": "code",
   "execution_count": 76,
   "id": "91de1850-a7b6-4a13-acb8-eb4e43efd414",
   "metadata": {},
   "outputs": [
    {
     "data": {
      "image/png": "[encoded data removed]",
      "text/plain": [
       "<Figure size 640x480 with 1 Axes>"
      ]
     },
     "metadata": {},
     "output_type": "display_data"
    }
   ],
   "source": [
    "plt.pie( df['churn'].value_counts(dropna=False), labels=df['churn'].value_counts(dropna=False).index, autopct='%.2f%%' )\n",
    "plt.show()"
   ]
  },
  {
   "cell_type": "code",
   "execution_count": 77,
   "id": "6916c015-a245-4198-8b01-b3cb33ee9165",
   "metadata": {},
   "outputs": [
    {
     "data": {
      "image/png": "[encoded data removed]",
      "text/plain": [
       "<Figure size 640x480 with 1 Axes>"
      ]
     },
     "metadata": {},
     "output_type": "display_data"
    }
   ],
   "source": [
    "plt.pie( df['maximum_days_inactive'].value_counts(dropna=False), labels=df['maximum_days_inactive'].value_counts(dropna=False).index, autopct='%.2f%%' )\n",
    "plt.show()"
   ]
  },
  {
   "cell_type": "code",
   "execution_count": 80,
   "id": "896c379f-0fa3-4ad6-af17-cb3704d88284",
   "metadata": {},
   "outputs": [
    {
     "data": {
      "image/png": "[encoded data removed]",
      "text/plain": [
       "<Figure size 640x480 with 1 Axes>"
      ]
     },
     "metadata": {},
     "output_type": "display_data"
    }
   ],
   "source": [
    "plt.pie( df['maximum_days_inactive'].value_counts(dropna=False), \n",
    "        labels=df['maximum_days_inactive'].value_counts(dropna=False).index, \n",
    "        autopct='%.2f%%',\n",
    "        explode=[0, 0.2, 0.5, 0.2, 0.8, 0.5, 0.2, 0.3]\n",
    "       )\n",
    "plt.show()"
   ]
  },
  {
   "cell_type": "markdown",
   "id": "e5ce7168-b1d5-403b-8792-129cf33c3bb4",
   "metadata": {},
   "source": [
    "# How to handle missing data"
   ]
  },
  {
   "cell_type": "markdown",
   "id": "f96db65c-cdce-49cc-8002-c671a81a7b26",
   "metadata": {},
   "source": [
    "- Filling the values\n",
    "- Delete the comumn(s)\n",
    "- Delete the row(s)\n",
    "\n",
    "1. Filling the values:\n",
    "   - For numerical comumns, we can fill the values with median or mean\n",
    "   - For categorical columns, we can fill the value with mode (most frequent values), least frequent value or a new category\n",
    "2. Deleting the columns:\n",
    "   -  If the column has more than 30-40% data missing then we can delete column\n",
    "   -  This is not a thumb rule, we can be flexible here depending on our usecase\n",
    "3. Deleting the rows:\n",
    "   - Should be avoided to save data"
   ]
  },
  {
   "cell_type": "code",
   "execution_count": 85,
   "id": "0f7c28a8-3d22-4d29-adb7-5924c5c76494",
   "metadata": {},
   "outputs": [
    {
     "data": {
      "text/plain": [
       "gender\n",
       "Male      1053\n",
       "Female     923\n",
       "NaN         24\n",
       "Name: count, dtype: int64"
      ]
     },
     "execution_count": 85,
     "metadata": {},
     "output_type": "execute_result"
    }
   ],
   "source": [
    "df['gender'].value_counts(dropna=False)"
   ]
  },
  {
   "cell_type": "code",
   "execution_count": 83,
   "id": "48753676-1978-4341-bdf9-79888b96faf5",
   "metadata": {},
   "outputs": [
    {
     "data": {
      "text/plain": [
       "0    Male\n",
       "Name: gender, dtype: object"
      ]
     },
     "execution_count": 83,
     "metadata": {},
     "output_type": "execute_result"
    }
   ],
   "source": [
    "df['gender'].mode()"
   ]
  },
  {
   "cell_type": "code",
   "execution_count": 84,
   "id": "dd616cd7-75cb-45d9-9e6f-ffebab0e74b0",
   "metadata": {},
   "outputs": [
    {
     "data": {
      "text/plain": [
       "'Male'"
      ]
     },
     "execution_count": 84,
     "metadata": {},
     "output_type": "execute_result"
    }
   ],
   "source": [
    "df['gender'].mode().iloc[0]"
   ]
  },
  {
   "cell_type": "code",
   "execution_count": 87,
   "id": "30389da1-5ee5-4140-bfde-cfe281530a93",
   "metadata": {},
   "outputs": [
    {
     "data": {
      "text/plain": [
       "churn\n",
       "Subscriber      1703\n",
       "Unsubscribed     262\n",
       "NaN               35\n",
       "Name: count, dtype: int64"
      ]
     },
     "execution_count": 87,
     "metadata": {},
     "output_type": "execute_result"
    }
   ],
   "source": [
    "df['churn'].value_counts(dropna=False)"
   ]
  },
  {
   "cell_type": "code",
   "execution_count": 89,
   "id": "c01608fa-5a49-45aa-8cc1-c199cf61374a",
   "metadata": {},
   "outputs": [
    {
     "data": {
      "text/html": [
       "<div>\n",
       "<style scoped>\n",
       "    .dataframe tbody tr th:only-of-type {\n",
       "        vertical-align: middle;\n",
       "    }\n",
       "\n",
       "    .dataframe tbody tr th {\n",
       "        vertical-align: top;\n",
       "    }\n",
       "\n",
       "    .dataframe thead th {\n",
       "        text-align: right;\n",
       "    }\n",
       "</style>\n",
       "<table border=\"1\" class=\"dataframe\">\n",
       "  <thead>\n",
       "    <tr style=\"text-align: right;\">\n",
       "      <th></th>\n",
       "      <th>customer_id</th>\n",
       "      <th>phone_no</th>\n",
       "      <th>gender</th>\n",
       "      <th>age</th>\n",
       "      <th>no_of_days_subscribed</th>\n",
       "      <th>multi_screen</th>\n",
       "      <th>mail_subscribed</th>\n",
       "      <th>weekly_mins_watched</th>\n",
       "      <th>minimum_daily_mins</th>\n",
       "      <th>maximum_daily_mins</th>\n",
       "      <th>weekly_max_night_mins</th>\n",
       "      <th>videos_watched</th>\n",
       "      <th>maximum_days_inactive</th>\n",
       "      <th>customer_support_calls</th>\n",
       "      <th>churn</th>\n",
       "    </tr>\n",
       "  </thead>\n",
       "  <tbody>\n",
       "    <tr>\n",
       "      <th>81</th>\n",
       "      <td>129137</td>\n",
       "      <td>335-7257</td>\n",
       "      <td>Female</td>\n",
       "      <td>36</td>\n",
       "      <td>92</td>\n",
       "      <td>no</td>\n",
       "      <td>yes</td>\n",
       "      <td>276.00</td>\n",
       "      <td>12.7</td>\n",
       "      <td>31.28</td>\n",
       "      <td>96</td>\n",
       "      <td>3</td>\n",
       "      <td>NaN</td>\n",
       "      <td>2</td>\n",
       "      <td>NaN</td>\n",
       "    </tr>\n",
       "    <tr>\n",
       "      <th>82</th>\n",
       "      <td>129487</td>\n",
       "      <td>377-9178</td>\n",
       "      <td>Female</td>\n",
       "      <td>39</td>\n",
       "      <td>103</td>\n",
       "      <td>no</td>\n",
       "      <td>no</td>\n",
       "      <td>240.30</td>\n",
       "      <td>9.7</td>\n",
       "      <td>27.23</td>\n",
       "      <td>97</td>\n",
       "      <td>2</td>\n",
       "      <td>NaN</td>\n",
       "      <td>0</td>\n",
       "      <td>NaN</td>\n",
       "    </tr>\n",
       "    <tr>\n",
       "      <th>120</th>\n",
       "      <td>148624</td>\n",
       "      <td>410-5713</td>\n",
       "      <td>Male</td>\n",
       "      <td>32</td>\n",
       "      <td>66</td>\n",
       "      <td>no</td>\n",
       "      <td>yes</td>\n",
       "      <td>262.05</td>\n",
       "      <td>8.9</td>\n",
       "      <td>29.70</td>\n",
       "      <td>98</td>\n",
       "      <td>2</td>\n",
       "      <td>3.0</td>\n",
       "      <td>1</td>\n",
       "      <td>NaN</td>\n",
       "    </tr>\n",
       "    <tr>\n",
       "      <th>121</th>\n",
       "      <td>148676</td>\n",
       "      <td>370-7546</td>\n",
       "      <td>Male</td>\n",
       "      <td>37</td>\n",
       "      <td>87</td>\n",
       "      <td>no</td>\n",
       "      <td>no</td>\n",
       "      <td>235.20</td>\n",
       "      <td>7.6</td>\n",
       "      <td>26.66</td>\n",
       "      <td>77</td>\n",
       "      <td>6</td>\n",
       "      <td>3.0</td>\n",
       "      <td>1</td>\n",
       "      <td>NaN</td>\n",
       "    </tr>\n",
       "    <tr>\n",
       "      <th>156</th>\n",
       "      <td>165361</td>\n",
       "      <td>380-8727</td>\n",
       "      <td>Female</td>\n",
       "      <td>37</td>\n",
       "      <td>99</td>\n",
       "      <td>no</td>\n",
       "      <td>no</td>\n",
       "      <td>173.25</td>\n",
       "      <td>11.5</td>\n",
       "      <td>19.64</td>\n",
       "      <td>98</td>\n",
       "      <td>7</td>\n",
       "      <td>4.0</td>\n",
       "      <td>7</td>\n",
       "      <td>NaN</td>\n",
       "    </tr>\n",
       "    <tr>\n",
       "      <th>157</th>\n",
       "      <td>165883</td>\n",
       "      <td>358-9095</td>\n",
       "      <td>Female</td>\n",
       "      <td>28</td>\n",
       "      <td>128</td>\n",
       "      <td>no</td>\n",
       "      <td>no</td>\n",
       "      <td>356.85</td>\n",
       "      <td>13.9</td>\n",
       "      <td>40.44</td>\n",
       "      <td>68</td>\n",
       "      <td>4</td>\n",
       "      <td>4.0</td>\n",
       "      <td>1</td>\n",
       "      <td>NaN</td>\n",
       "    </tr>\n",
       "    <tr>\n",
       "      <th>194</th>\n",
       "      <td>184762</td>\n",
       "      <td>357-1909</td>\n",
       "      <td>Male</td>\n",
       "      <td>31</td>\n",
       "      <td>151</td>\n",
       "      <td>yes</td>\n",
       "      <td>no</td>\n",
       "      <td>327.00</td>\n",
       "      <td>12.4</td>\n",
       "      <td>37.06</td>\n",
       "      <td>95</td>\n",
       "      <td>1</td>\n",
       "      <td>4.0</td>\n",
       "      <td>0</td>\n",
       "      <td>NaN</td>\n",
       "    </tr>\n",
       "    <tr>\n",
       "      <th>195</th>\n",
       "      <td>184815</td>\n",
       "      <td>397-7500</td>\n",
       "      <td>Male</td>\n",
       "      <td>40</td>\n",
       "      <td>105</td>\n",
       "      <td>no</td>\n",
       "      <td>yes</td>\n",
       "      <td>211.80</td>\n",
       "      <td>11.4</td>\n",
       "      <td>24.00</td>\n",
       "      <td>101</td>\n",
       "      <td>2</td>\n",
       "      <td>4.0</td>\n",
       "      <td>1</td>\n",
       "      <td>NaN</td>\n",
       "    </tr>\n",
       "    <tr>\n",
       "      <th>228</th>\n",
       "      <td>200466</td>\n",
       "      <td>374-1551</td>\n",
       "      <td>Male</td>\n",
       "      <td>38</td>\n",
       "      <td>80</td>\n",
       "      <td>no</td>\n",
       "      <td>no</td>\n",
       "      <td>177.15</td>\n",
       "      <td>8.2</td>\n",
       "      <td>20.08</td>\n",
       "      <td>86</td>\n",
       "      <td>6</td>\n",
       "      <td>3.0</td>\n",
       "      <td>1</td>\n",
       "      <td>NaN</td>\n",
       "    </tr>\n",
       "    <tr>\n",
       "      <th>290</th>\n",
       "      <td>230769</td>\n",
       "      <td>366-7247</td>\n",
       "      <td>Male</td>\n",
       "      <td>60</td>\n",
       "      <td>93</td>\n",
       "      <td>yes</td>\n",
       "      <td>no</td>\n",
       "      <td>325.35</td>\n",
       "      <td>17.5</td>\n",
       "      <td>36.87</td>\n",
       "      <td>110</td>\n",
       "      <td>5</td>\n",
       "      <td>5.0</td>\n",
       "      <td>1</td>\n",
       "      <td>NaN</td>\n",
       "    </tr>\n",
       "    <tr>\n",
       "      <th>291</th>\n",
       "      <td>231790</td>\n",
       "      <td>344-7470</td>\n",
       "      <td>Female</td>\n",
       "      <td>35</td>\n",
       "      <td>92</td>\n",
       "      <td>no</td>\n",
       "      <td>no</td>\n",
       "      <td>318.60</td>\n",
       "      <td>9.0</td>\n",
       "      <td>36.11</td>\n",
       "      <td>105</td>\n",
       "      <td>4</td>\n",
       "      <td>3.0</td>\n",
       "      <td>1</td>\n",
       "      <td>NaN</td>\n",
       "    </tr>\n",
       "    <tr>\n",
       "      <th>364</th>\n",
       "      <td>261719</td>\n",
       "      <td>353-6870</td>\n",
       "      <td>Male</td>\n",
       "      <td>34</td>\n",
       "      <td>90</td>\n",
       "      <td>no</td>\n",
       "      <td>no</td>\n",
       "      <td>218.25</td>\n",
       "      <td>10.9</td>\n",
       "      <td>24.74</td>\n",
       "      <td>123</td>\n",
       "      <td>2</td>\n",
       "      <td>3.0</td>\n",
       "      <td>3</td>\n",
       "      <td>NaN</td>\n",
       "    </tr>\n",
       "    <tr>\n",
       "      <th>365</th>\n",
       "      <td>261966</td>\n",
       "      <td>348-2916</td>\n",
       "      <td>Female</td>\n",
       "      <td>33</td>\n",
       "      <td>92</td>\n",
       "      <td>no</td>\n",
       "      <td>no</td>\n",
       "      <td>398.40</td>\n",
       "      <td>8.6</td>\n",
       "      <td>45.15</td>\n",
       "      <td>113</td>\n",
       "      <td>2</td>\n",
       "      <td>3.0</td>\n",
       "      <td>1</td>\n",
       "      <td>NaN</td>\n",
       "    </tr>\n",
       "    <tr>\n",
       "      <th>410</th>\n",
       "      <td>280804</td>\n",
       "      <td>337-7167</td>\n",
       "      <td>Male</td>\n",
       "      <td>32</td>\n",
       "      <td>143</td>\n",
       "      <td>no</td>\n",
       "      <td>no</td>\n",
       "      <td>334.95</td>\n",
       "      <td>4.5</td>\n",
       "      <td>37.96</td>\n",
       "      <td>84</td>\n",
       "      <td>4</td>\n",
       "      <td>2.0</td>\n",
       "      <td>0</td>\n",
       "      <td>NaN</td>\n",
       "    </tr>\n",
       "    <tr>\n",
       "      <th>451</th>\n",
       "      <td>302751</td>\n",
       "      <td>359-1231</td>\n",
       "      <td>Male</td>\n",
       "      <td>58</td>\n",
       "      <td>138</td>\n",
       "      <td>no</td>\n",
       "      <td>no</td>\n",
       "      <td>362.70</td>\n",
       "      <td>11.8</td>\n",
       "      <td>41.11</td>\n",
       "      <td>104</td>\n",
       "      <td>7</td>\n",
       "      <td>4.0</td>\n",
       "      <td>3</td>\n",
       "      <td>NaN</td>\n",
       "    </tr>\n",
       "    <tr>\n",
       "      <th>452</th>\n",
       "      <td>302827</td>\n",
       "      <td>367-3971</td>\n",
       "      <td>Male</td>\n",
       "      <td>27</td>\n",
       "      <td>115</td>\n",
       "      <td>no</td>\n",
       "      <td>no</td>\n",
       "      <td>198.00</td>\n",
       "      <td>0.0</td>\n",
       "      <td>22.44</td>\n",
       "      <td>114</td>\n",
       "      <td>0</td>\n",
       "      <td>0.0</td>\n",
       "      <td>3</td>\n",
       "      <td>NaN</td>\n",
       "    </tr>\n",
       "    <tr>\n",
       "      <th>495</th>\n",
       "      <td>326310</td>\n",
       "      <td>354-3436</td>\n",
       "      <td>Male</td>\n",
       "      <td>48</td>\n",
       "      <td>117</td>\n",
       "      <td>no</td>\n",
       "      <td>no</td>\n",
       "      <td>154.20</td>\n",
       "      <td>10.1</td>\n",
       "      <td>17.48</td>\n",
       "      <td>105</td>\n",
       "      <td>7</td>\n",
       "      <td>3.0</td>\n",
       "      <td>1</td>\n",
       "      <td>NaN</td>\n",
       "    </tr>\n",
       "    <tr>\n",
       "      <th>535</th>\n",
       "      <td>342077</td>\n",
       "      <td>392-2268</td>\n",
       "      <td>Male</td>\n",
       "      <td>26</td>\n",
       "      <td>108</td>\n",
       "      <td>no</td>\n",
       "      <td>no</td>\n",
       "      <td>298.95</td>\n",
       "      <td>15.2</td>\n",
       "      <td>33.88</td>\n",
       "      <td>57</td>\n",
       "      <td>2</td>\n",
       "      <td>5.0</td>\n",
       "      <td>0</td>\n",
       "      <td>NaN</td>\n",
       "    </tr>\n",
       "    <tr>\n",
       "      <th>536</th>\n",
       "      <td>342187</td>\n",
       "      <td>357-3577</td>\n",
       "      <td>Male</td>\n",
       "      <td>36</td>\n",
       "      <td>69</td>\n",
       "      <td>no</td>\n",
       "      <td>no</td>\n",
       "      <td>277.95</td>\n",
       "      <td>5.5</td>\n",
       "      <td>31.50</td>\n",
       "      <td>107</td>\n",
       "      <td>5</td>\n",
       "      <td>2.0</td>\n",
       "      <td>0</td>\n",
       "      <td>NaN</td>\n",
       "    </tr>\n",
       "    <tr>\n",
       "      <th>537</th>\n",
       "      <td>342431</td>\n",
       "      <td>373-2782</td>\n",
       "      <td>Male</td>\n",
       "      <td>24</td>\n",
       "      <td>73</td>\n",
       "      <td>no</td>\n",
       "      <td>no</td>\n",
       "      <td>336.60</td>\n",
       "      <td>13.0</td>\n",
       "      <td>38.15</td>\n",
       "      <td>74</td>\n",
       "      <td>2</td>\n",
       "      <td>4.0</td>\n",
       "      <td>1</td>\n",
       "      <td>NaN</td>\n",
       "    </tr>\n",
       "    <tr>\n",
       "      <th>538</th>\n",
       "      <td>344089</td>\n",
       "      <td>369-5449</td>\n",
       "      <td>Female</td>\n",
       "      <td>46</td>\n",
       "      <td>24</td>\n",
       "      <td>no</td>\n",
       "      <td>no</td>\n",
       "      <td>364.50</td>\n",
       "      <td>15.3</td>\n",
       "      <td>41.31</td>\n",
       "      <td>109</td>\n",
       "      <td>6</td>\n",
       "      <td>5.0</td>\n",
       "      <td>0</td>\n",
       "      <td>NaN</td>\n",
       "    </tr>\n",
       "    <tr>\n",
       "      <th>676</th>\n",
       "      <td>414753</td>\n",
       "      <td>388-6479</td>\n",
       "      <td>Female</td>\n",
       "      <td>63</td>\n",
       "      <td>109</td>\n",
       "      <td>no</td>\n",
       "      <td>yes</td>\n",
       "      <td>326.25</td>\n",
       "      <td>9.0</td>\n",
       "      <td>36.98</td>\n",
       "      <td>99</td>\n",
       "      <td>3</td>\n",
       "      <td>3.0</td>\n",
       "      <td>4</td>\n",
       "      <td>NaN</td>\n",
       "    </tr>\n",
       "    <tr>\n",
       "      <th>677</th>\n",
       "      <td>415888</td>\n",
       "      <td>357-4078</td>\n",
       "      <td>Male</td>\n",
       "      <td>29</td>\n",
       "      <td>110</td>\n",
       "      <td>no</td>\n",
       "      <td>yes</td>\n",
       "      <td>303.90</td>\n",
       "      <td>9.0</td>\n",
       "      <td>34.44</td>\n",
       "      <td>98</td>\n",
       "      <td>9</td>\n",
       "      <td>3.0</td>\n",
       "      <td>2</td>\n",
       "      <td>NaN</td>\n",
       "    </tr>\n",
       "    <tr>\n",
       "      <th>678</th>\n",
       "      <td>415976</td>\n",
       "      <td>419-8987</td>\n",
       "      <td>Female</td>\n",
       "      <td>25</td>\n",
       "      <td>44</td>\n",
       "      <td>no</td>\n",
       "      <td>no</td>\n",
       "      <td>432.15</td>\n",
       "      <td>10.2</td>\n",
       "      <td>48.98</td>\n",
       "      <td>90</td>\n",
       "      <td>4</td>\n",
       "      <td>3.0</td>\n",
       "      <td>3</td>\n",
       "      <td>NaN</td>\n",
       "    </tr>\n",
       "    <tr>\n",
       "      <th>767</th>\n",
       "      <td>459172</td>\n",
       "      <td>349-2808</td>\n",
       "      <td>Male</td>\n",
       "      <td>37</td>\n",
       "      <td>86</td>\n",
       "      <td>no</td>\n",
       "      <td>yes</td>\n",
       "      <td>178.50</td>\n",
       "      <td>9.5</td>\n",
       "      <td>20.23</td>\n",
       "      <td>58</td>\n",
       "      <td>3</td>\n",
       "      <td>3.0</td>\n",
       "      <td>0</td>\n",
       "      <td>NaN</td>\n",
       "    </tr>\n",
       "    <tr>\n",
       "      <th>768</th>\n",
       "      <td>459208</td>\n",
       "      <td>358-5953</td>\n",
       "      <td>Male</td>\n",
       "      <td>28</td>\n",
       "      <td>112</td>\n",
       "      <td>no</td>\n",
       "      <td>no</td>\n",
       "      <td>173.70</td>\n",
       "      <td>13.1</td>\n",
       "      <td>19.69</td>\n",
       "      <td>78</td>\n",
       "      <td>5</td>\n",
       "      <td>4.0</td>\n",
       "      <td>1</td>\n",
       "      <td>NaN</td>\n",
       "    </tr>\n",
       "    <tr>\n",
       "      <th>813</th>\n",
       "      <td>480373</td>\n",
       "      <td>330-4978</td>\n",
       "      <td>Male</td>\n",
       "      <td>23</td>\n",
       "      <td>80</td>\n",
       "      <td>no</td>\n",
       "      <td>no</td>\n",
       "      <td>403.05</td>\n",
       "      <td>5.8</td>\n",
       "      <td>45.68</td>\n",
       "      <td>140</td>\n",
       "      <td>1</td>\n",
       "      <td>2.0</td>\n",
       "      <td>2</td>\n",
       "      <td>NaN</td>\n",
       "    </tr>\n",
       "    <tr>\n",
       "      <th>875</th>\n",
       "      <td>513212</td>\n",
       "      <td>398-6703</td>\n",
       "      <td>Female</td>\n",
       "      <td>46</td>\n",
       "      <td>110</td>\n",
       "      <td>no</td>\n",
       "      <td>no</td>\n",
       "      <td>363.75</td>\n",
       "      <td>7.8</td>\n",
       "      <td>41.23</td>\n",
       "      <td>86</td>\n",
       "      <td>3</td>\n",
       "      <td>3.0</td>\n",
       "      <td>4</td>\n",
       "      <td>NaN</td>\n",
       "    </tr>\n",
       "    <tr>\n",
       "      <th>876</th>\n",
       "      <td>513943</td>\n",
       "      <td>389-5649</td>\n",
       "      <td>Female</td>\n",
       "      <td>28</td>\n",
       "      <td>31</td>\n",
       "      <td>no</td>\n",
       "      <td>no</td>\n",
       "      <td>265.95</td>\n",
       "      <td>5.1</td>\n",
       "      <td>30.14</td>\n",
       "      <td>92</td>\n",
       "      <td>2</td>\n",
       "      <td>2.0</td>\n",
       "      <td>0</td>\n",
       "      <td>NaN</td>\n",
       "    </tr>\n",
       "    <tr>\n",
       "      <th>910</th>\n",
       "      <td>527975</td>\n",
       "      <td>366-5829</td>\n",
       "      <td>Male</td>\n",
       "      <td>44</td>\n",
       "      <td>125</td>\n",
       "      <td>no</td>\n",
       "      <td>no</td>\n",
       "      <td>214.80</td>\n",
       "      <td>8.8</td>\n",
       "      <td>24.34</td>\n",
       "      <td>135</td>\n",
       "      <td>7</td>\n",
       "      <td>3.0</td>\n",
       "      <td>4</td>\n",
       "      <td>NaN</td>\n",
       "    </tr>\n",
       "    <tr>\n",
       "      <th>911</th>\n",
       "      <td>527998</td>\n",
       "      <td>337-9878</td>\n",
       "      <td>Female</td>\n",
       "      <td>47</td>\n",
       "      <td>103</td>\n",
       "      <td>no</td>\n",
       "      <td>yes</td>\n",
       "      <td>278.10</td>\n",
       "      <td>14.5</td>\n",
       "      <td>31.52</td>\n",
       "      <td>110</td>\n",
       "      <td>4</td>\n",
       "      <td>4.0</td>\n",
       "      <td>2</td>\n",
       "      <td>NaN</td>\n",
       "    </tr>\n",
       "    <tr>\n",
       "      <th>915</th>\n",
       "      <td>529554</td>\n",
       "      <td>346-5068</td>\n",
       "      <td>Male</td>\n",
       "      <td>43</td>\n",
       "      <td>172</td>\n",
       "      <td>no</td>\n",
       "      <td>no</td>\n",
       "      <td>430.65</td>\n",
       "      <td>14.4</td>\n",
       "      <td>48.81</td>\n",
       "      <td>98</td>\n",
       "      <td>2</td>\n",
       "      <td>4.0</td>\n",
       "      <td>3</td>\n",
       "      <td>NaN</td>\n",
       "    </tr>\n",
       "    <tr>\n",
       "      <th>1993</th>\n",
       "      <td>996129</td>\n",
       "      <td>401-3170</td>\n",
       "      <td>Male</td>\n",
       "      <td>36</td>\n",
       "      <td>127</td>\n",
       "      <td>no</td>\n",
       "      <td>no</td>\n",
       "      <td>303.15</td>\n",
       "      <td>11.5</td>\n",
       "      <td>34.36</td>\n",
       "      <td>113</td>\n",
       "      <td>3</td>\n",
       "      <td>4.0</td>\n",
       "      <td>2</td>\n",
       "      <td>NaN</td>\n",
       "    </tr>\n",
       "    <tr>\n",
       "      <th>1994</th>\n",
       "      <td>996524</td>\n",
       "      <td>351-9604</td>\n",
       "      <td>Female</td>\n",
       "      <td>60</td>\n",
       "      <td>141</td>\n",
       "      <td>no</td>\n",
       "      <td>yes</td>\n",
       "      <td>310.35</td>\n",
       "      <td>9.3</td>\n",
       "      <td>35.17</td>\n",
       "      <td>124</td>\n",
       "      <td>11</td>\n",
       "      <td>3.0</td>\n",
       "      <td>2</td>\n",
       "      <td>NaN</td>\n",
       "    </tr>\n",
       "    <tr>\n",
       "      <th>1995</th>\n",
       "      <td>997132</td>\n",
       "      <td>385-7387</td>\n",
       "      <td>Female</td>\n",
       "      <td>54</td>\n",
       "      <td>75</td>\n",
       "      <td>no</td>\n",
       "      <td>yes</td>\n",
       "      <td>182.25</td>\n",
       "      <td>11.3</td>\n",
       "      <td>20.66</td>\n",
       "      <td>97</td>\n",
       "      <td>5</td>\n",
       "      <td>4.0</td>\n",
       "      <td>2</td>\n",
       "      <td>NaN</td>\n",
       "    </tr>\n",
       "  </tbody>\n",
       "</table>\n",
       "</div>"
      ],
      "text/plain": [
       "      customer_id  phone_no  gender  age  no_of_days_subscribed multi_screen  \\\n",
       "81         129137  335-7257  Female   36                     92           no   \n",
       "82         129487  377-9178  Female   39                    103           no   \n",
       "120        148624  410-5713    Male   32                     66           no   \n",
       "121        148676  370-7546    Male   37                     87           no   \n",
       "156        165361  380-8727  Female   37                     99           no   \n",
       "157        165883  358-9095  Female   28                    128           no   \n",
       "194        184762  357-1909    Male   31                    151          yes   \n",
       "195        184815  397-7500    Male   40                    105           no   \n",
       "228        200466  374-1551    Male   38                     80           no   \n",
       "290        230769  366-7247    Male   60                     93          yes   \n",
       "291        231790  344-7470  Female   35                     92           no   \n",
       "364        261719  353-6870    Male   34                     90           no   \n",
       "365        261966  348-2916  Female   33                     92           no   \n",
       "410        280804  337-7167    Male   32                    143           no   \n",
       "451        302751  359-1231    Male   58                    138           no   \n",
       "452        302827  367-3971    Male   27                    115           no   \n",
       "495        326310  354-3436    Male   48                    117           no   \n",
       "535        342077  392-2268    Male   26                    108           no   \n",
       "536        342187  357-3577    Male   36                     69           no   \n",
       "537        342431  373-2782    Male   24                     73           no   \n",
       "538        344089  369-5449  Female   46                     24           no   \n",
       "676        414753  388-6479  Female   63                    109           no   \n",
       "677        415888  357-4078    Male   29                    110           no   \n",
       "678        415976  419-8987  Female   25                     44           no   \n",
       "767        459172  349-2808    Male   37                     86           no   \n",
       "768        459208  358-5953    Male   28                    112           no   \n",
       "813        480373  330-4978    Male   23                     80           no   \n",
       "875        513212  398-6703  Female   46                    110           no   \n",
       "876        513943  389-5649  Female   28                     31           no   \n",
       "910        527975  366-5829    Male   44                    125           no   \n",
       "911        527998  337-9878  Female   47                    103           no   \n",
       "915        529554  346-5068    Male   43                    172           no   \n",
       "1993       996129  401-3170    Male   36                    127           no   \n",
       "1994       996524  351-9604  Female   60                    141           no   \n",
       "1995       997132  385-7387  Female   54                     75           no   \n",
       "\n",
       "     mail_subscribed  weekly_mins_watched  minimum_daily_mins  \\\n",
       "81               yes               276.00                12.7   \n",
       "82                no               240.30                 9.7   \n",
       "120              yes               262.05                 8.9   \n",
       "121               no               235.20                 7.6   \n",
       "156               no               173.25                11.5   \n",
       "157               no               356.85                13.9   \n",
       "194               no               327.00                12.4   \n",
       "195              yes               211.80                11.4   \n",
       "228               no               177.15                 8.2   \n",
       "290               no               325.35                17.5   \n",
       "291               no               318.60                 9.0   \n",
       "364               no               218.25                10.9   \n",
       "365               no               398.40                 8.6   \n",
       "410               no               334.95                 4.5   \n",
       "451               no               362.70                11.8   \n",
       "452               no               198.00                 0.0   \n",
       "495               no               154.20                10.1   \n",
       "535               no               298.95                15.2   \n",
       "536               no               277.95                 5.5   \n",
       "537               no               336.60                13.0   \n",
       "538               no               364.50                15.3   \n",
       "676              yes               326.25                 9.0   \n",
       "677              yes               303.90                 9.0   \n",
       "678               no               432.15                10.2   \n",
       "767              yes               178.50                 9.5   \n",
       "768               no               173.70                13.1   \n",
       "813               no               403.05                 5.8   \n",
       "875               no               363.75                 7.8   \n",
       "876               no               265.95                 5.1   \n",
       "910               no               214.80                 8.8   \n",
       "911              yes               278.10                14.5   \n",
       "915               no               430.65                14.4   \n",
       "1993              no               303.15                11.5   \n",
       "1994             yes               310.35                 9.3   \n",
       "1995             yes               182.25                11.3   \n",
       "\n",
       "      maximum_daily_mins  weekly_max_night_mins  videos_watched  \\\n",
       "81                 31.28                     96               3   \n",
       "82                 27.23                     97               2   \n",
       "120                29.70                     98               2   \n",
       "121                26.66                     77               6   \n",
       "156                19.64                     98               7   \n",
       "157                40.44                     68               4   \n",
       "194                37.06                     95               1   \n",
       "195                24.00                    101               2   \n",
       "228                20.08                     86               6   \n",
       "290                36.87                    110               5   \n",
       "291                36.11                    105               4   \n",
       "364                24.74                    123               2   \n",
       "365                45.15                    113               2   \n",
       "410                37.96                     84               4   \n",
       "451                41.11                    104               7   \n",
       "452                22.44                    114               0   \n",
       "495                17.48                    105               7   \n",
       "535                33.88                     57               2   \n",
       "536                31.50                    107               5   \n",
       "537                38.15                     74               2   \n",
       "538                41.31                    109               6   \n",
       "676                36.98                     99               3   \n",
       "677                34.44                     98               9   \n",
       "678                48.98                     90               4   \n",
       "767                20.23                     58               3   \n",
       "768                19.69                     78               5   \n",
       "813                45.68                    140               1   \n",
       "875                41.23                     86               3   \n",
       "876                30.14                     92               2   \n",
       "910                24.34                    135               7   \n",
       "911                31.52                    110               4   \n",
       "915                48.81                     98               2   \n",
       "1993               34.36                    113               3   \n",
       "1994               35.17                    124              11   \n",
       "1995               20.66                     97               5   \n",
       "\n",
       "      maximum_days_inactive  customer_support_calls churn  \n",
       "81                      NaN                       2   NaN  \n",
       "82                      NaN                       0   NaN  \n",
       "120                     3.0                       1   NaN  \n",
       "121                     3.0                       1   NaN  \n",
       "156                     4.0                       7   NaN  \n",
       "157                     4.0                       1   NaN  \n",
       "194                     4.0                       0   NaN  \n",
       "195                     4.0                       1   NaN  \n",
       "228                     3.0                       1   NaN  \n",
       "290                     5.0                       1   NaN  \n",
       "291                     3.0                       1   NaN  \n",
       "364                     3.0                       3   NaN  \n",
       "365                     3.0                       1   NaN  \n",
       "410                     2.0                       0   NaN  \n",
       "451                     4.0                       3   NaN  \n",
       "452                     0.0                       3   NaN  \n",
       "495                     3.0                       1   NaN  \n",
       "535                     5.0                       0   NaN  \n",
       "536                     2.0                       0   NaN  \n",
       "537                     4.0                       1   NaN  \n",
       "538                     5.0                       0   NaN  \n",
       "676                     3.0                       4   NaN  \n",
       "677                     3.0                       2   NaN  \n",
       "678                     3.0                       3   NaN  \n",
       "767                     3.0                       0   NaN  \n",
       "768                     4.0                       1   NaN  \n",
       "813                     2.0                       2   NaN  \n",
       "875                     3.0                       4   NaN  \n",
       "876                     2.0                       0   NaN  \n",
       "910                     3.0                       4   NaN  \n",
       "911                     4.0                       2   NaN  \n",
       "915                     4.0                       3   NaN  \n",
       "1993                    4.0                       2   NaN  \n",
       "1994                    3.0                       2   NaN  \n",
       "1995                    4.0                       2   NaN  "
      ]
     },
     "execution_count": 89,
     "metadata": {},
     "output_type": "execute_result"
    }
   ],
   "source": [
    "df[df['churn'].isna()]"
   ]
  },
  {
   "cell_type": "code",
   "execution_count": 92,
   "id": "b0b45530-fcac-46cb-88c7-8cc74d01d549",
   "metadata": {},
   "outputs": [
    {
     "data": {
      "text/html": [
       "<div>\n",
       "<style scoped>\n",
       "    .dataframe tbody tr th:only-of-type {\n",
       "        vertical-align: middle;\n",
       "    }\n",
       "\n",
       "    .dataframe tbody tr th {\n",
       "        vertical-align: top;\n",
       "    }\n",
       "\n",
       "    .dataframe thead th {\n",
       "        text-align: right;\n",
       "    }\n",
       "</style>\n",
       "<table border=\"1\" class=\"dataframe\">\n",
       "  <thead>\n",
       "    <tr style=\"text-align: right;\">\n",
       "      <th></th>\n",
       "      <th>maximum_days_inactive</th>\n",
       "      <th>customer_support_calls</th>\n",
       "      <th>churn</th>\n",
       "    </tr>\n",
       "  </thead>\n",
       "  <tbody>\n",
       "    <tr>\n",
       "      <th>81</th>\n",
       "      <td>NaN</td>\n",
       "      <td>2</td>\n",
       "      <td>NaN</td>\n",
       "    </tr>\n",
       "    <tr>\n",
       "      <th>82</th>\n",
       "      <td>NaN</td>\n",
       "      <td>0</td>\n",
       "      <td>NaN</td>\n",
       "    </tr>\n",
       "    <tr>\n",
       "      <th>120</th>\n",
       "      <td>3.0</td>\n",
       "      <td>1</td>\n",
       "      <td>NaN</td>\n",
       "    </tr>\n",
       "    <tr>\n",
       "      <th>121</th>\n",
       "      <td>3.0</td>\n",
       "      <td>1</td>\n",
       "      <td>NaN</td>\n",
       "    </tr>\n",
       "    <tr>\n",
       "      <th>156</th>\n",
       "      <td>4.0</td>\n",
       "      <td>7</td>\n",
       "      <td>NaN</td>\n",
       "    </tr>\n",
       "    <tr>\n",
       "      <th>157</th>\n",
       "      <td>4.0</td>\n",
       "      <td>1</td>\n",
       "      <td>NaN</td>\n",
       "    </tr>\n",
       "    <tr>\n",
       "      <th>194</th>\n",
       "      <td>4.0</td>\n",
       "      <td>0</td>\n",
       "      <td>NaN</td>\n",
       "    </tr>\n",
       "    <tr>\n",
       "      <th>195</th>\n",
       "      <td>4.0</td>\n",
       "      <td>1</td>\n",
       "      <td>NaN</td>\n",
       "    </tr>\n",
       "    <tr>\n",
       "      <th>228</th>\n",
       "      <td>3.0</td>\n",
       "      <td>1</td>\n",
       "      <td>NaN</td>\n",
       "    </tr>\n",
       "    <tr>\n",
       "      <th>290</th>\n",
       "      <td>5.0</td>\n",
       "      <td>1</td>\n",
       "      <td>NaN</td>\n",
       "    </tr>\n",
       "    <tr>\n",
       "      <th>291</th>\n",
       "      <td>3.0</td>\n",
       "      <td>1</td>\n",
       "      <td>NaN</td>\n",
       "    </tr>\n",
       "    <tr>\n",
       "      <th>364</th>\n",
       "      <td>3.0</td>\n",
       "      <td>3</td>\n",
       "      <td>NaN</td>\n",
       "    </tr>\n",
       "    <tr>\n",
       "      <th>365</th>\n",
       "      <td>3.0</td>\n",
       "      <td>1</td>\n",
       "      <td>NaN</td>\n",
       "    </tr>\n",
       "    <tr>\n",
       "      <th>410</th>\n",
       "      <td>2.0</td>\n",
       "      <td>0</td>\n",
       "      <td>NaN</td>\n",
       "    </tr>\n",
       "    <tr>\n",
       "      <th>451</th>\n",
       "      <td>4.0</td>\n",
       "      <td>3</td>\n",
       "      <td>NaN</td>\n",
       "    </tr>\n",
       "    <tr>\n",
       "      <th>452</th>\n",
       "      <td>0.0</td>\n",
       "      <td>3</td>\n",
       "      <td>NaN</td>\n",
       "    </tr>\n",
       "    <tr>\n",
       "      <th>495</th>\n",
       "      <td>3.0</td>\n",
       "      <td>1</td>\n",
       "      <td>NaN</td>\n",
       "    </tr>\n",
       "    <tr>\n",
       "      <th>535</th>\n",
       "      <td>5.0</td>\n",
       "      <td>0</td>\n",
       "      <td>NaN</td>\n",
       "    </tr>\n",
       "    <tr>\n",
       "      <th>536</th>\n",
       "      <td>2.0</td>\n",
       "      <td>0</td>\n",
       "      <td>NaN</td>\n",
       "    </tr>\n",
       "    <tr>\n",
       "      <th>537</th>\n",
       "      <td>4.0</td>\n",
       "      <td>1</td>\n",
       "      <td>NaN</td>\n",
       "    </tr>\n",
       "    <tr>\n",
       "      <th>538</th>\n",
       "      <td>5.0</td>\n",
       "      <td>0</td>\n",
       "      <td>NaN</td>\n",
       "    </tr>\n",
       "    <tr>\n",
       "      <th>676</th>\n",
       "      <td>3.0</td>\n",
       "      <td>4</td>\n",
       "      <td>NaN</td>\n",
       "    </tr>\n",
       "    <tr>\n",
       "      <th>677</th>\n",
       "      <td>3.0</td>\n",
       "      <td>2</td>\n",
       "      <td>NaN</td>\n",
       "    </tr>\n",
       "    <tr>\n",
       "      <th>678</th>\n",
       "      <td>3.0</td>\n",
       "      <td>3</td>\n",
       "      <td>NaN</td>\n",
       "    </tr>\n",
       "    <tr>\n",
       "      <th>767</th>\n",
       "      <td>3.0</td>\n",
       "      <td>0</td>\n",
       "      <td>NaN</td>\n",
       "    </tr>\n",
       "    <tr>\n",
       "      <th>768</th>\n",
       "      <td>4.0</td>\n",
       "      <td>1</td>\n",
       "      <td>NaN</td>\n",
       "    </tr>\n",
       "    <tr>\n",
       "      <th>813</th>\n",
       "      <td>2.0</td>\n",
       "      <td>2</td>\n",
       "      <td>NaN</td>\n",
       "    </tr>\n",
       "    <tr>\n",
       "      <th>875</th>\n",
       "      <td>3.0</td>\n",
       "      <td>4</td>\n",
       "      <td>NaN</td>\n",
       "    </tr>\n",
       "    <tr>\n",
       "      <th>876</th>\n",
       "      <td>2.0</td>\n",
       "      <td>0</td>\n",
       "      <td>NaN</td>\n",
       "    </tr>\n",
       "    <tr>\n",
       "      <th>910</th>\n",
       "      <td>3.0</td>\n",
       "      <td>4</td>\n",
       "      <td>NaN</td>\n",
       "    </tr>\n",
       "    <tr>\n",
       "      <th>911</th>\n",
       "      <td>4.0</td>\n",
       "      <td>2</td>\n",
       "      <td>NaN</td>\n",
       "    </tr>\n",
       "    <tr>\n",
       "      <th>915</th>\n",
       "      <td>4.0</td>\n",
       "      <td>3</td>\n",
       "      <td>NaN</td>\n",
       "    </tr>\n",
       "    <tr>\n",
       "      <th>1993</th>\n",
       "      <td>4.0</td>\n",
       "      <td>2</td>\n",
       "      <td>NaN</td>\n",
       "    </tr>\n",
       "    <tr>\n",
       "      <th>1994</th>\n",
       "      <td>3.0</td>\n",
       "      <td>2</td>\n",
       "      <td>NaN</td>\n",
       "    </tr>\n",
       "    <tr>\n",
       "      <th>1995</th>\n",
       "      <td>4.0</td>\n",
       "      <td>2</td>\n",
       "      <td>NaN</td>\n",
       "    </tr>\n",
       "  </tbody>\n",
       "</table>\n",
       "</div>"
      ],
      "text/plain": [
       "      maximum_days_inactive  customer_support_calls churn\n",
       "81                      NaN                       2   NaN\n",
       "82                      NaN                       0   NaN\n",
       "120                     3.0                       1   NaN\n",
       "121                     3.0                       1   NaN\n",
       "156                     4.0                       7   NaN\n",
       "157                     4.0                       1   NaN\n",
       "194                     4.0                       0   NaN\n",
       "195                     4.0                       1   NaN\n",
       "228                     3.0                       1   NaN\n",
       "290                     5.0                       1   NaN\n",
       "291                     3.0                       1   NaN\n",
       "364                     3.0                       3   NaN\n",
       "365                     3.0                       1   NaN\n",
       "410                     2.0                       0   NaN\n",
       "451                     4.0                       3   NaN\n",
       "452                     0.0                       3   NaN\n",
       "495                     3.0                       1   NaN\n",
       "535                     5.0                       0   NaN\n",
       "536                     2.0                       0   NaN\n",
       "537                     4.0                       1   NaN\n",
       "538                     5.0                       0   NaN\n",
       "676                     3.0                       4   NaN\n",
       "677                     3.0                       2   NaN\n",
       "678                     3.0                       3   NaN\n",
       "767                     3.0                       0   NaN\n",
       "768                     4.0                       1   NaN\n",
       "813                     2.0                       2   NaN\n",
       "875                     3.0                       4   NaN\n",
       "876                     2.0                       0   NaN\n",
       "910                     3.0                       4   NaN\n",
       "911                     4.0                       2   NaN\n",
       "915                     4.0                       3   NaN\n",
       "1993                    4.0                       2   NaN\n",
       "1994                    3.0                       2   NaN\n",
       "1995                    4.0                       2   NaN"
      ]
     },
     "execution_count": 92,
     "metadata": {},
     "output_type": "execute_result"
    }
   ],
   "source": [
    "df[df['churn'].isna()][['maximum_days_inactive', 'customer_support_calls', 'churn']]"
   ]
  },
  {
   "cell_type": "code",
   "execution_count": 94,
   "id": "adb7b4ce-4823-4d33-9de0-7f686bb002cb",
   "metadata": {},
   "outputs": [
    {
     "data": {
      "text/plain": [
       "3.2505070993914806"
      ]
     },
     "execution_count": 94,
     "metadata": {},
     "output_type": "execute_result"
    }
   ],
   "source": [
    "df['maximum_days_inactive'].mean()"
   ]
  },
  {
   "cell_type": "code",
   "execution_count": 95,
   "id": "910489fc-1279-4f14-8284-5dc97e31b247",
   "metadata": {},
   "outputs": [
    {
     "data": {
      "text/plain": [
       "3.0"
      ]
     },
     "execution_count": 95,
     "metadata": {},
     "output_type": "execute_result"
    }
   ],
   "source": [
    "df['maximum_days_inactive'].median()"
   ]
  },
  {
   "cell_type": "code",
   "execution_count": 103,
   "id": "a2ee2834-7f80-4713-959c-e714628af56f",
   "metadata": {},
   "outputs": [
    {
     "data": {
      "text/plain": [
       "gender\n",
       "Male      1053\n",
       "Female     923\n",
       "NaN         24\n",
       "Name: count, dtype: int64"
      ]
     },
     "execution_count": 103,
     "metadata": {},
     "output_type": "execute_result"
    }
   ],
   "source": [
    "df['gender'].value_counts(dropna=False)"
   ]
  },
  {
   "cell_type": "code",
   "execution_count": 98,
   "id": "fdeef87f-97c0-4e2b-8082-1d5daab531df",
   "metadata": {},
   "outputs": [
    {
     "data": {
      "text/plain": [
       "maximum_days_inactive\n",
       "3.0    945\n",
       "4.0    645\n",
       "2.0    273\n",
       "5.0     85\n",
       "NaN     28\n",
       "1.0     12\n",
       "0.0     10\n",
       "6.0      2\n",
       "Name: count, dtype: int64"
      ]
     },
     "execution_count": 98,
     "metadata": {},
     "output_type": "execute_result"
    }
   ],
   "source": [
    "df['maximum_days_inactive'].value_counts(dropna=False)"
   ]
  },
  {
   "cell_type": "code",
   "execution_count": 100,
   "id": "3b4a2e22-7362-4b7b-baf6-be276ac414bd",
   "metadata": {},
   "outputs": [
    {
     "data": {
      "text/plain": [
       "churn\n",
       "Subscriber      1703\n",
       "Unsubscribed     262\n",
       "NaN               35\n",
       "Name: count, dtype: int64"
      ]
     },
     "execution_count": 100,
     "metadata": {},
     "output_type": "execute_result"
    }
   ],
   "source": [
    "df['churn'].value_counts(dropna=False)"
   ]
  },
  {
   "cell_type": "code",
   "execution_count": 106,
   "id": "a5a451bb-3839-452c-a082-d9dac370378d",
   "metadata": {},
   "outputs": [
    {
     "data": {
      "text/plain": [
       "'Unsubscribed'"
      ]
     },
     "execution_count": 106,
     "metadata": {},
     "output_type": "execute_result"
    }
   ],
   "source": [
    "df['churn'].value_counts().idxmin()"
   ]
  },
  {
   "cell_type": "code",
   "execution_count": 102,
   "id": "0835828d-48cf-447f-9b76-9bb057e0e99a",
   "metadata": {},
   "outputs": [
    {
     "data": {
      "text/plain": [
       "customer_id                0\n",
       "phone_no                   0\n",
       "gender                    24\n",
       "age                        0\n",
       "no_of_days_subscribed      0\n",
       "multi_screen               0\n",
       "mail_subscribed            0\n",
       "weekly_mins_watched        0\n",
       "minimum_daily_mins         0\n",
       "maximum_daily_mins         0\n",
       "weekly_max_night_mins      0\n",
       "videos_watched             0\n",
       "maximum_days_inactive     28\n",
       "customer_support_calls     0\n",
       "churn                     35\n",
       "dtype: int64"
      ]
     },
     "execution_count": 102,
     "metadata": {},
     "output_type": "execute_result"
    }
   ],
   "source": [
    "df.isna().sum()"
   ]
  },
  {
   "cell_type": "code",
   "execution_count": 107,
   "id": "ceaedc3b-ead1-4722-86c0-621ae3b415f3",
   "metadata": {},
   "outputs": [],
   "source": [
    "df = df.fillna({\n",
    "    'gender': df['gender'].mode().iloc[0],\n",
    "    'maximum_days_inactive': df['maximum_days_inactive'].median(),\n",
    "    'churn': df['churn'].value_counts().idxmin()\n",
    "})"
   ]
  },
  {
   "cell_type": "code",
   "execution_count": 108,
   "id": "ef158bb9-409c-4b9d-aabc-d8b3d2107b7b",
   "metadata": {},
   "outputs": [
    {
     "data": {
      "text/plain": [
       "customer_id               0\n",
       "phone_no                  0\n",
       "gender                    0\n",
       "age                       0\n",
       "no_of_days_subscribed     0\n",
       "multi_screen              0\n",
       "mail_subscribed           0\n",
       "weekly_mins_watched       0\n",
       "minimum_daily_mins        0\n",
       "maximum_daily_mins        0\n",
       "weekly_max_night_mins     0\n",
       "videos_watched            0\n",
       "maximum_days_inactive     0\n",
       "customer_support_calls    0\n",
       "churn                     0\n",
       "dtype: int64"
      ]
     },
     "execution_count": 108,
     "metadata": {},
     "output_type": "execute_result"
    }
   ],
   "source": [
    "df.isna().sum()"
   ]
  },
  {
   "cell_type": "code",
   "execution_count": 110,
   "id": "1a44329f-7c3f-4866-a435-fcb4267ad643",
   "metadata": {},
   "outputs": [
    {
     "ename": "NameError",
     "evalue": "name 'data' is not defined",
     "output_type": "error",
     "traceback": [
      "\u001b[0;31m---------------------------------------------------------------------------\u001b[0m",
      "\u001b[0;31mNameError\u001b[0m                                 Traceback (most recent call last)",
      "Cell \u001b[0;32mIn[110], line 1\u001b[0m\n\u001b[0;32m----> 1\u001b[0m dc\u001b[38;5;241m=\u001b[39msns\u001b[38;5;241m.\u001b[39mcountplot(data\u001b[38;5;241m=\u001b[39mdata , x\u001b[38;5;241m=\u001b[39m \u001b[38;5;124m\"\u001b[39m\u001b[38;5;124mage\u001b[39m\u001b[38;5;124m\"\u001b[39m)\n\u001b[1;32m      2\u001b[0m \u001b[38;5;28;01mfor\u001b[39;00m i \u001b[38;5;129;01min\u001b[39;00m dc\u001b[38;5;241m.\u001b[39mcontainers:\n\u001b[1;32m      3\u001b[0m     dc\u001b[38;5;241m.\u001b[39mbar_label(i)\n",
      "\u001b[0;31mNameError\u001b[0m: name 'data' is not defined"
     ]
    }
   ],
   "source": []
  },
  {
   "cell_type": "code",
   "execution_count": null,
   "id": "eff387e3-8a77-4dbf-af88-4020ae0aeea6",
   "metadata": {},
   "outputs": [],
   "source": []
  }
 ],
 "metadata": {
  "kernelspec": {
   "display_name": "Python 3 (ipykernel)",
   "language": "python",
   "name": "python3"
  },
  "language_info": {
   "codemirror_mode": {
    "name": "ipython",
    "version": 3
   },
   "file_extension": ".py",
   "mimetype": "text/x-python",
   "name": "python",
   "nbconvert_exporter": "python",
   "pygments_lexer": "ipython3",
   "version": "3.12.7"
  }
 },
 "nbformat": 4,
 "nbformat_minor": 5
}
